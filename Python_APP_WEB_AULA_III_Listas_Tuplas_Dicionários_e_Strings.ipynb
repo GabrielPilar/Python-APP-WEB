{
  "nbformat": 4,
  "nbformat_minor": 0,
  "metadata": {
    "colab": {
      "provenance": [],
      "collapsed_sections": []
    },
    "kernelspec": {
      "name": "python3",
      "display_name": "Python 3"
    },
    "language_info": {
      "name": "python"
    }
  },
  "cells": [
    {
      "cell_type": "code",
      "source": [
        "# Listas em Python\n",
        "# Listas vazias:\n",
        "\n",
        "L = []\n",
        "\n",
        "L = list()    # < Construtor de listas."
      ],
      "metadata": {
        "id": "OdCeSzNe0r4m"
      },
      "execution_count": null,
      "outputs": []
    },
    {
      "cell_type": "code",
      "source": [
        "# Lista com 3 elementos:\n",
        "\n",
        "dias = [3, 1, 10]\n",
        "dias[0]"
      ],
      "metadata": {
        "colab": {
          "base_uri": "https://localhost:8080/"
        },
        "id": "NeIpmRhCSlOT",
        "outputId": "0415eb4d-9860-4b05-ee10-eba1ef5ace3c"
      },
      "execution_count": null,
      "outputs": [
        {
          "output_type": "execute_result",
          "data": {
            "text/plain": [
              "3"
            ]
          },
          "metadata": {},
          "execution_count": 243
        }
      ]
    },
    {
      "cell_type": "code",
      "source": [
        "dias[1]"
      ],
      "metadata": {
        "colab": {
          "base_uri": "https://localhost:8080/"
        },
        "id": "5xZrLRGvSzZu",
        "outputId": "e06cca54-0d2e-4875-9a09-339b14c06b7d"
      },
      "execution_count": null,
      "outputs": [
        {
          "output_type": "execute_result",
          "data": {
            "text/plain": [
              "1"
            ]
          },
          "metadata": {},
          "execution_count": 244
        }
      ]
    },
    {
      "cell_type": "code",
      "source": [
        "dias[2]"
      ],
      "metadata": {
        "colab": {
          "base_uri": "https://localhost:8080/"
        },
        "id": "2y-C-XGTS7oO",
        "outputId": "26ddf850-c0e2-4b75-f6f0-15d78335f83c"
      },
      "execution_count": null,
      "outputs": [
        {
          "output_type": "execute_result",
          "data": {
            "text/plain": [
              "10"
            ]
          },
          "metadata": {},
          "execution_count": 245
        }
      ]
    },
    {
      "cell_type": "code",
      "source": [
        "# Modificando listas:\n",
        "\n",
        "Z = [3, 8, 9]\n",
        "Z[0] = 7\n",
        "Z"
      ],
      "metadata": {
        "colab": {
          "base_uri": "https://localhost:8080/"
        },
        "id": "vMGhEioh1cm2",
        "outputId": "797ab293-f454-4656-8d49-c87d74722377"
      },
      "execution_count": null,
      "outputs": [
        {
          "output_type": "execute_result",
          "data": {
            "text/plain": [
              "[7, 8, 9]"
            ]
          },
          "metadata": {},
          "execution_count": 246
        }
      ]
    },
    {
      "cell_type": "code",
      "source": [
        "# Modificando listas:\n",
        "\n",
        "V = 67589\n",
        "L = V\n",
        "print(L)\n",
        "print(V)\n",
        "\n",
        "# Nesse caso, V funciona como um apelido para L e vice-versa.\n",
        "# Ou seja, V e L representam a mesma lista (mesmo objeto)."
      ],
      "metadata": {
        "id": "Z-8VHo3k1obb",
        "colab": {
          "base_uri": "https://localhost:8080/"
        },
        "outputId": "90149e53-2c50-4310-cbd3-8cb5cc4a4313"
      },
      "execution_count": null,
      "outputs": [
        {
          "output_type": "stream",
          "name": "stdout",
          "text": [
            "67589\n",
            "67589\n"
          ]
        }
      ]
    },
    {
      "cell_type": "code",
      "source": [
        "# Clonando Listas:\n",
        "\n",
        "\n",
        "a = [81, 82, 83]\n",
        "b = a[:] # cria um clone com fatia\n",
        "print(a == b)\n",
        "print(a is b)\n",
        "b[0] = 5\n",
        "print(a)  # a = [81, 82, 83]\n",
        "print(b)   # b[0] = 5"
      ],
      "metadata": {
        "colab": {
          "base_uri": "https://localhost:8080/"
        },
        "id": "MkvcE8VKnOny",
        "outputId": "8d3fe1c6-cd67-4714-9340-b084aea99ea6"
      },
      "execution_count": null,
      "outputs": [
        {
          "output_type": "stream",
          "name": "stdout",
          "text": [
            "True\n",
            "False\n",
            "[81, 82, 83]\n",
            "[5, 82, 83]\n"
          ]
        }
      ]
    },
    {
      "cell_type": "code",
      "source": [
        "# Fatiamento de Listas:\n",
        "\n",
        "dicionário = ['a', 'b', 'c', 'd', 'e', 'f', 'g', 'i', 'j', 'k']\n",
        "\n",
        "print(dicionário[1:3])\n",
        "print(dicionário[:4])\n",
        "print(dicionário[3:])\n",
        "print(dicionário[:])"
      ],
      "metadata": {
        "colab": {
          "base_uri": "https://localhost:8080/"
        },
        "id": "Erfa1aUyn2d-",
        "outputId": "9e4b82f8-47f2-48db-fa1a-4d86d2743def"
      },
      "execution_count": null,
      "outputs": [
        {
          "output_type": "stream",
          "name": "stdout",
          "text": [
            "['b', 'c']\n",
            "['a', 'b', 'c', 'd']\n",
            "['d', 'e', 'f', 'g', 'i', 'j', 'k']\n",
            "['a', 'b', 'c', 'd', 'e', 'f', 'g', 'i', 'j', 'k']\n"
          ]
        }
      ]
    },
    {
      "cell_type": "code",
      "source": [
        "print(dicionário[0:3]) # teste\n",
        "print(dicionário[3:5]) # teste2\n",
        "print(dicionário[5:7]) # teste3"
      ],
      "metadata": {
        "colab": {
          "base_uri": "https://localhost:8080/"
        },
        "id": "-UsXRERVoXz5",
        "outputId": "c40721f1-97e0-4d84-b783-84096698e1cc"
      },
      "execution_count": null,
      "outputs": [
        {
          "output_type": "stream",
          "name": "stdout",
          "text": [
            "['a', 'b', 'c']\n",
            "['d', 'e']\n",
            "['f', 'g']\n"
          ]
        }
      ]
    },
    {
      "cell_type": "code",
      "source": [
        "# O que será impresso na seguinte sequência de comandos?\n",
        "\n",
        "a = [1, 2, 3]   #  ÍNDICE: 0=1 - 1=2 - 2=3\n",
        "b = a[:] # cria um clone com fatia\n",
        "b[0] = 5\n",
        "print(a[2])  # Se colocar 3 não vai, não temos o índice 3.\n",
        "print(b[0])  # Se colocar 3 não vai, não temos o índice 3."
      ],
      "metadata": {
        "colab": {
          "base_uri": "https://localhost:8080/"
        },
        "id": "eh4rvvOppuy1",
        "outputId": "ff3de854-d8c0-4231-9b5a-9af4630b84ae"
      },
      "execution_count": null,
      "outputs": [
        {
          "output_type": "stream",
          "name": "stdout",
          "text": [
            "3\n",
            "5\n"
          ]
        }
      ]
    },
    {
      "cell_type": "code",
      "source": [
        "# Cria uma lista chamada minhaLista com os seguinte itens: 76, 92.3,\n",
        "# “oi”, True, 4, 76. Depois execute os seguintes comandos:\n",
        "\n",
        "# Inserir “pitomba” e 76 no final da lista.\n",
        "# Inserir o valor “Cibele” na posição de índice 3.\n",
        "# Inserir o valor 99 no início da lista.\n",
        "# Encontrar o índice de “oi”.\n",
        "# Remover True da lista.\n",
        "\n"
      ],
      "metadata": {
        "id": "tXynOUjbStkV"
      },
      "execution_count": null,
      "outputs": []
    },
    {
      "cell_type": "code",
      "source": [
        "minhaLista = [76, 92.3, 'oi', True, 4, 76]\n",
        "minhaLista.append('pitomba')  # .append() Só adicionar um item por vez.\n",
        "minhaLista[len(minhaLista):] = [76]  # Para adicionar um ou mais, usar len para descompacta os itens da lista no lado direito e os adicionar à fatia como itens individuais.\n",
        "minhaLista = [99] + minhaLista\n",
        "minhaLista\n",
        "\n"
      ],
      "metadata": {
        "colab": {
          "base_uri": "https://localhost:8080/"
        },
        "id": "m-gEIovpQ5B6",
        "outputId": "70b20bf8-d8b1-4725-8010-c15344b71c24"
      },
      "execution_count": null,
      "outputs": [
        {
          "output_type": "execute_result",
          "data": {
            "text/plain": [
              "[99, 76, 92.3, 'oi', True, 4, 76, 'pitomba', 76]"
            ]
          },
          "metadata": {},
          "execution_count": 253
        }
      ]
    },
    {
      "cell_type": "code",
      "source": [
        "# O que é impresso pelo trecho de código a seguir?\n",
        "# uma_lista = [4, 2, 8, 6, 5] \n",
        "# uma_lista = uma_lista + [\"Cibele\"] \n",
        "# print(uma_lista)\n",
        "\n",
        "# [4, 2, 8, 6, 5, 'Cibele']\n",
        "\n",
        "uma_lista = [4, 2, 8, 6, 5]\n",
        "uma_lista = uma_lista + [\"Cibele\"]\n",
        "print(uma_lista)"
      ],
      "metadata": {
        "id": "FtXFfiKOayTA",
        "colab": {
          "base_uri": "https://localhost:8080/"
        },
        "outputId": "9ee10baf-4099-4eb5-9cb0-697eb4019f08"
      },
      "execution_count": null,
      "outputs": [
        {
          "output_type": "stream",
          "name": "stdout",
          "text": [
            "[4, 2, 8, 6, 5, 'Cibele']\n"
          ]
        }
      ]
    },
    {
      "cell_type": "code",
      "source": [
        "#Criando Tuplas\n",
        "\n",
        "tupla_numeros = (10, 20, 30)   #Tupla com parênteses\n",
        "tupla_numeros"
      ],
      "metadata": {
        "colab": {
          "base_uri": "https://localhost:8080/"
        },
        "id": "NM8oIx3DMWir",
        "outputId": "a20fdb5a-9ee4-4cac-d123-75dbdb6eae58"
      },
      "execution_count": null,
      "outputs": [
        {
          "output_type": "execute_result",
          "data": {
            "text/plain": [
              "(10, 20, 30)"
            ]
          },
          "metadata": {},
          "execution_count": 255
        }
      ]
    },
    {
      "cell_type": "code",
      "source": [
        "tupla_nova = 10, 20, 30 #Tupla sem parênteses\n",
        "tupla_nova"
      ],
      "metadata": {
        "colab": {
          "base_uri": "https://localhost:8080/"
        },
        "id": "xd_72wcZMlbH",
        "outputId": "aff9ea43-95f6-4438-cc7d-9d1097e196ec"
      },
      "execution_count": null,
      "outputs": [
        {
          "output_type": "execute_result",
          "data": {
            "text/plain": [
              "(10, 20, 30)"
            ]
          },
          "metadata": {},
          "execution_count": 256
        }
      ]
    },
    {
      "cell_type": "code",
      "source": [
        "tupla_elemento = 10, # Tupla com apenas um elemento\n",
        "tupla_elemento"
      ],
      "metadata": {
        "colab": {
          "base_uri": "https://localhost:8080/"
        },
        "id": "IlRT_lndMrVb",
        "outputId": "4ba0356a-0536-4371-d5bd-e920ff03f317"
      },
      "execution_count": null,
      "outputs": [
        {
          "output_type": "execute_result",
          "data": {
            "text/plain": [
              "(10,)"
            ]
          },
          "metadata": {},
          "execution_count": 257
        }
      ]
    },
    {
      "cell_type": "code",
      "source": [
        "tupla_vazia = ()  # Tupla vazia\n",
        "tupla_vazia"
      ],
      "metadata": {
        "colab": {
          "base_uri": "https://localhost:8080/"
        },
        "id": "fUg2guMOMvLH",
        "outputId": "ed179606-2699-493c-fcf7-5ad08b2aa2de"
      },
      "execution_count": null,
      "outputs": [
        {
          "output_type": "execute_result",
          "data": {
            "text/plain": [
              "()"
            ]
          },
          "metadata": {},
          "execution_count": 258
        }
      ]
    },
    {
      "cell_type": "code",
      "source": [
        "nova_tupla = tuple('Teste') # Função tuple\n",
        "nova_tupla"
      ],
      "metadata": {
        "colab": {
          "base_uri": "https://localhost:8080/"
        },
        "id": "1oslSRDEMyE0",
        "outputId": "f978c2a2-642f-4410-ccfd-e5830f101001"
      },
      "execution_count": null,
      "outputs": [
        {
          "output_type": "execute_result",
          "data": {
            "text/plain": [
              "('T', 'e', 's', 't', 'e')"
            ]
          },
          "metadata": {},
          "execution_count": 259
        }
      ]
    },
    {
      "cell_type": "code",
      "source": [
        "tupla_nomes = ('Marlene', 'Zezinho', 'Marlene', 'Cibele', 'Zuely')  # Contando elementos da tupla\n",
        "tupla_nomes.count('Marlene') # .count para contar quantas vezes o valor x aparece na variável\n",
        "print (tupla_nomes.count('Suely'))\n",
        "print (tupla_nomes.count('Zezinho'))"
      ],
      "metadata": {
        "colab": {
          "base_uri": "https://localhost:8080/"
        },
        "id": "i6bPqFyBM0OK",
        "outputId": "83483a31-69b8-4501-8b89-ecee262d0600"
      },
      "execution_count": null,
      "outputs": [
        {
          "output_type": "stream",
          "name": "stdout",
          "text": [
            "0\n",
            "1\n"
          ]
        }
      ]
    },
    {
      "cell_type": "code",
      "source": [
        "# Crie uma tupla com os seguintes elementos: 1, 2, 2, 3, 4, 4, 4,\n",
        "# 5 e depois utilize a função count do objeto tupla para verificar\n",
        "# quantas vezes o número 4 aparece na tupla.\n",
        "\n",
        "tupla = 1,2,3,4,4,4,5\n",
        "tupla.count(4)"
      ],
      "metadata": {
        "colab": {
          "base_uri": "https://localhost:8080/"
        },
        "id": "_neL9aByM72p",
        "outputId": "0c2772f7-a613-4fc6-8e86-a0b7322a6c4f"
      },
      "execution_count": null,
      "outputs": [
        {
          "output_type": "execute_result",
          "data": {
            "text/plain": [
              "3"
            ]
          },
          "metadata": {},
          "execution_count": 261
        }
      ]
    },
    {
      "cell_type": "code",
      "source": [
        "dicio = {'chave': 'valor'} # Criando um dicionário:\n",
        "print(type(dicio))"
      ],
      "metadata": {
        "colab": {
          "base_uri": "https://localhost:8080/"
        },
        "id": "lwkKnh8CNHx5",
        "outputId": "34427891-b4f5-45c3-e76d-c6bd489f703a"
      },
      "execution_count": null,
      "outputs": [
        {
          "output_type": "stream",
          "name": "stdout",
          "text": [
            "<class 'dict'>\n"
          ]
        }
      ]
    },
    {
      "cell_type": "code",
      "source": [
        "# O que acontece em cada sequência de comandos a seguir?\n",
        "# A) \n",
        "# d = {'laranjas': 15, 'bananas': 35, 'siriguelas': 12}\n",
        "# d['bananas']\n",
        "\n",
        "# 35*\n",
        "\n",
        "\n",
        "# B)\n",
        "# d['pitomba'] = 20\n",
        "# len(d)\n",
        "\n",
        "# 4*\n",
        "\n",
        "\n",
        "# C)\n",
        "# 'pitomba' in d\n",
        "\n",
        "# True*\n",
        "\n",
        "# D)\n",
        "# 'pears' in d\n",
        "\n",
        "# False*\n",
        "\n",
        "\n",
        "# F)\n",
        "# del d['laranjas']\n",
        "# 'laranjas' in d\n",
        "\n",
        "# False*\n"
      ],
      "metadata": {
        "id": "ZGqsJuAPNR-s"
      },
      "execution_count": null,
      "outputs": []
    },
    {
      "cell_type": "code",
      "source": [
        "d = {'laranjas' : 15 , 'bananas': 35, 'siriguelas': 12}\n",
        "print(d['bananas'])\n",
        "d['pitomba'] = 20\n",
        "print(len(d))\n",
        "print('pitomba' in d)\n",
        "print('pears' in d)\n",
        "del d['laranjas']\n",
        "print('laranjas' in d)\n",
        "d"
      ],
      "metadata": {
        "colab": {
          "base_uri": "https://localhost:8080/"
        },
        "id": "CLSg7hUbPJ-t",
        "outputId": "ea976465-28b1-44c7-bd21-4c6fd7bdd979"
      },
      "execution_count": null,
      "outputs": [
        {
          "output_type": "stream",
          "name": "stdout",
          "text": [
            "35\n",
            "4\n",
            "True\n",
            "False\n",
            "False\n"
          ]
        },
        {
          "output_type": "execute_result",
          "data": {
            "text/plain": [
              "{'bananas': 35, 'siriguelas': 12, 'pitomba': 20}"
            ]
          },
          "metadata": {},
          "execution_count": 264
        }
      ]
    },
    {
      "cell_type": "code",
      "source": [
        "frutas = [\"pinha\", \"oiti coró\", \"jaca\", \"tamarindo\"]  # Concatenação e Repetição\n",
        "print([1, 2] + [3, 4])\n",
        "print(frutas + [6, 7, 8, 9])\n",
        "print([0] * 4)\n",
        "print([1, 2, [\"oi\", \"tchau\"]]*2)"
      ],
      "metadata": {
        "colab": {
          "base_uri": "https://localhost:8080/"
        },
        "id": "GQ3Pe5XMPLn5",
        "outputId": "c683c07b-121d-491c-d038-c6441724b8e8"
      },
      "execution_count": null,
      "outputs": [
        {
          "output_type": "stream",
          "name": "stdout",
          "text": [
            "[1, 2, 3, 4]\n",
            "['pinha', 'oiti coró', 'jaca', 'tamarindo', 6, 7, 8, 9]\n",
            "[0, 0, 0, 0]\n",
            "[1, 2, ['oi', 'tchau'], 1, 2, ['oi', 'tchau']]\n"
          ]
        }
      ]
    },
    {
      "cell_type": "code",
      "source": [
        "minha_lista = []    \n",
        "minha_lista.append(5)   # .append é um método de listas que insere o argumento passado para ele no final da lista.\n",
        "minha_lista.append(27)\n",
        "minha_lista.append(3)\n",
        "minha_lista.append(12)\n",
        "print(minha_lista)"
      ],
      "metadata": {
        "colab": {
          "base_uri": "https://localhost:8080/"
        },
        "id": "_4P9NJ_URA92",
        "outputId": "0659ec1b-d296-4320-932a-ce5db1379856"
      },
      "execution_count": null,
      "outputs": [
        {
          "output_type": "stream",
          "name": "stdout",
          "text": [
            "[5, 27, 3, 12]\n"
          ]
        }
      ]
    },
    {
      "cell_type": "code",
      "source": [
        "minha_lista.insert(1, 12) # Método para direcionar a posição \n",
        "print(minha_lista)\n",
        "print(minha_lista.count(12))\n",
        "print(minha_lista.index(3)) # .index qual é o valor que está no índice 3\n",
        "print(minha_lista.count(5))"
      ],
      "metadata": {
        "colab": {
          "base_uri": "https://localhost:8080/"
        },
        "id": "sdc9a-kaRVFQ",
        "outputId": "5a4f80f4-dac6-4916-e86a-b2ebd8cf813f"
      },
      "execution_count": null,
      "outputs": [
        {
          "output_type": "stream",
          "name": "stdout",
          "text": [
            "[5, 12, 27, 3, 12]\n",
            "2\n",
            "3\n",
            "1\n"
          ]
        }
      ]
    },
    {
      "cell_type": "code",
      "source": [
        "minha_lista.reverse()  # .reverse inverter a ordem dos valores\n",
        "print(minha_lista)\n",
        "minha_lista.sort() # .sorte colocar em ordem crescentes \n",
        "print(minha_lista)\n",
        "minha_lista.remove(5) # .remove remover um valor da lista\n",
        "print(minha_lista)"
      ],
      "metadata": {
        "colab": {
          "base_uri": "https://localhost:8080/"
        },
        "id": "eMnXnRx_R5Ho",
        "outputId": "8154e768-7c7a-457d-b0c0-7390ca5fde20"
      },
      "execution_count": null,
      "outputs": [
        {
          "output_type": "stream",
          "name": "stdout",
          "text": [
            "[12, 3, 27, 12, 5]\n",
            "[3, 5, 12, 12, 27]\n",
            "[3, 12, 12, 27]\n"
          ]
        }
      ]
    },
    {
      "cell_type": "code",
      "source": [
        "ultimo_item = minha_lista.pop() # .pop Remove e o último item\n",
        "print(ultimo_item)\n",
        "print(minha_lista)"
      ],
      "metadata": {
        "colab": {
          "base_uri": "https://localhost:8080/"
        },
        "id": "orVAAHmpS8ET",
        "outputId": "147652a2-5d59-4ee7-d611-bb8edcad99ae"
      },
      "execution_count": null,
      "outputs": [
        {
          "output_type": "stream",
          "name": "stdout",
          "text": [
            "27\n",
            "[3, 12, 12]\n"
          ]
        }
      ]
    },
    {
      "cell_type": "code",
      "source": [
        "# Strings em Python\n",
        "\n",
        "\n",
        "s = 'Python' # Acessando caracteres em STRINGS\n",
        "s[0]\n",
        "s[1]\n",
        "s[len(s)-1] # última posição\n",
        "s[-2] # Da direita pra esquerda"
      ],
      "metadata": {
        "colab": {
          "base_uri": "https://localhost:8080/",
          "height": 36
        },
        "id": "gsP2I5IkWeaR",
        "outputId": "a473b16d-4c71-4ffe-85f6-a49cf3ea1adf"
      },
      "execution_count": null,
      "outputs": [
        {
          "output_type": "execute_result",
          "data": {
            "text/plain": [
              "'o'"
            ],
            "application/vnd.google.colaboratory.intrinsic+json": {
              "type": "string"
            }
          },
          "metadata": {},
          "execution_count": 270
        }
      ]
    },
    {
      "cell_type": "code",
      "source": [
        "s = 'ABCDEFGG' # Fatiamento\n",
        "print(s)\n",
        "s[0:2]\n"
      ],
      "metadata": {
        "colab": {
          "base_uri": "https://localhost:8080/",
          "height": 54
        },
        "id": "jQ3nZ7gjX5fU",
        "outputId": "15fc6ed5-b0b3-4dfe-95bf-159d7ff4b51b"
      },
      "execution_count": null,
      "outputs": [
        {
          "output_type": "stream",
          "name": "stdout",
          "text": [
            "ABCDEFGG\n"
          ]
        },
        {
          "output_type": "execute_result",
          "data": {
            "text/plain": [
              "'AB'"
            ],
            "application/vnd.google.colaboratory.intrinsic+json": {
              "type": "string"
            }
          },
          "metadata": {},
          "execution_count": 271
        }
      ]
    },
    {
      "cell_type": "code",
      "source": [
        "print(s)\n",
        "s[1:5:2]"
      ],
      "metadata": {
        "colab": {
          "base_uri": "https://localhost:8080/",
          "height": 54
        },
        "id": "y88Xa6ZgYJQD",
        "outputId": "2e66f51d-1270-4d2d-9a2b-223e59ca1680"
      },
      "execution_count": null,
      "outputs": [
        {
          "output_type": "stream",
          "name": "stdout",
          "text": [
            "ABCDEFGG\n"
          ]
        },
        {
          "output_type": "execute_result",
          "data": {
            "text/plain": [
              "'BD'"
            ],
            "application/vnd.google.colaboratory.intrinsic+json": {
              "type": "string"
            }
          },
          "metadata": {},
          "execution_count": 272
        }
      ]
    },
    {
      "cell_type": "code",
      "source": [
        "print(s)\n",
        "s[3:6:2]"
      ],
      "metadata": {
        "colab": {
          "base_uri": "https://localhost:8080/",
          "height": 54
        },
        "id": "6Dv9fKO8YR2j",
        "outputId": "013992e1-6bf9-4ff9-b9d1-546554cb53dd"
      },
      "execution_count": null,
      "outputs": [
        {
          "output_type": "stream",
          "name": "stdout",
          "text": [
            "ABCDEFGG\n"
          ]
        },
        {
          "output_type": "execute_result",
          "data": {
            "text/plain": [
              "'DF'"
            ],
            "application/vnd.google.colaboratory.intrinsic+json": {
              "type": "string"
            }
          },
          "metadata": {},
          "execution_count": 273
        }
      ]
    },
    {
      "cell_type": "code",
      "source": [
        "s = 'ABCDEFGG'\n",
        "print(s)\n",
        "s[:2]"
      ],
      "metadata": {
        "colab": {
          "base_uri": "https://localhost:8080/",
          "height": 54
        },
        "id": "aORDVUPdYTGU",
        "outputId": "92462f5d-17a0-41e0-a07c-c634424a8548"
      },
      "execution_count": null,
      "outputs": [
        {
          "output_type": "stream",
          "name": "stdout",
          "text": [
            "ABCDEFGG\n"
          ]
        },
        {
          "output_type": "execute_result",
          "data": {
            "text/plain": [
              "'AB'"
            ],
            "application/vnd.google.colaboratory.intrinsic+json": {
              "type": "string"
            }
          },
          "metadata": {},
          "execution_count": 274
        }
      ]
    },
    {
      "cell_type": "code",
      "source": [
        "print(s)\n",
        "s[3:]"
      ],
      "metadata": {
        "colab": {
          "base_uri": "https://localhost:8080/",
          "height": 54
        },
        "id": "lNsAqETYZZff",
        "outputId": "e2546271-6b01-4d55-b7e2-acfacdeaea68"
      },
      "execution_count": null,
      "outputs": [
        {
          "output_type": "stream",
          "name": "stdout",
          "text": [
            "ABCDEFGG\n"
          ]
        },
        {
          "output_type": "execute_result",
          "data": {
            "text/plain": [
              "'DEFGG'"
            ],
            "application/vnd.google.colaboratory.intrinsic+json": {
              "type": "string"
            }
          },
          "metadata": {},
          "execution_count": 275
        }
      ]
    },
    {
      "cell_type": "code",
      "source": [
        "print(s)\n",
        "s[3::2]"
      ],
      "metadata": {
        "colab": {
          "base_uri": "https://localhost:8080/",
          "height": 54
        },
        "id": "Oxm758X4ZakD",
        "outputId": "05258ca9-9296-47de-daad-238cce07b41c"
      },
      "execution_count": null,
      "outputs": [
        {
          "output_type": "stream",
          "name": "stdout",
          "text": [
            "ABCDEFGG\n"
          ]
        },
        {
          "output_type": "execute_result",
          "data": {
            "text/plain": [
              "'DFG'"
            ],
            "application/vnd.google.colaboratory.intrinsic+json": {
              "type": "string"
            }
          },
          "metadata": {},
          "execution_count": 276
        }
      ]
    },
    {
      "cell_type": "code",
      "source": [
        "print(s)\n",
        "s[::]"
      ],
      "metadata": {
        "colab": {
          "base_uri": "https://localhost:8080/",
          "height": 54
        },
        "id": "hrcBxil3ZbtU",
        "outputId": "9fb1d981-2e9e-4ac5-f89c-2443b95308b9"
      },
      "execution_count": null,
      "outputs": [
        {
          "output_type": "stream",
          "name": "stdout",
          "text": [
            "ABCDEFGG\n"
          ]
        },
        {
          "output_type": "execute_result",
          "data": {
            "text/plain": [
              "'ABCDEFGG'"
            ],
            "application/vnd.google.colaboratory.intrinsic+json": {
              "type": "string"
            }
          },
          "metadata": {},
          "execution_count": 277
        }
      ]
    },
    {
      "cell_type": "code",
      "source": [
        "print(s)\n",
        "s[::3]"
      ],
      "metadata": {
        "colab": {
          "base_uri": "https://localhost:8080/",
          "height": 54
        },
        "id": "h8bqy5HRZe_L",
        "outputId": "01270321-516f-43c3-b9a9-8971024ec29a"
      },
      "execution_count": null,
      "outputs": [
        {
          "output_type": "stream",
          "name": "stdout",
          "text": [
            "ABCDEFGG\n"
          ]
        },
        {
          "output_type": "execute_result",
          "data": {
            "text/plain": [
              "'ADG'"
            ],
            "application/vnd.google.colaboratory.intrinsic+json": {
              "type": "string"
            }
          },
          "metadata": {},
          "execution_count": 278
        }
      ]
    },
    {
      "cell_type": "code",
      "source": [
        "print(s)\n",
        "s[3:]"
      ],
      "metadata": {
        "colab": {
          "base_uri": "https://localhost:8080/",
          "height": 54
        },
        "id": "0gH4He_0ZgLG",
        "outputId": "acb8bb29-4272-41b9-ed4d-04e81cbd0af8"
      },
      "execution_count": null,
      "outputs": [
        {
          "output_type": "stream",
          "name": "stdout",
          "text": [
            "ABCDEFGG\n"
          ]
        },
        {
          "output_type": "execute_result",
          "data": {
            "text/plain": [
              "'DEFGG'"
            ],
            "application/vnd.google.colaboratory.intrinsic+json": {
              "type": "string"
            }
          },
          "metadata": {},
          "execution_count": 279
        }
      ]
    },
    {
      "cell_type": "code",
      "source": [
        "print(s)\n",
        "s[3::2]"
      ],
      "metadata": {
        "colab": {
          "base_uri": "https://localhost:8080/",
          "height": 54
        },
        "id": "uZBxd5hUZhGb",
        "outputId": "3ceb1262-053c-4ee0-d533-7c42ac62047e"
      },
      "execution_count": null,
      "outputs": [
        {
          "output_type": "stream",
          "name": "stdout",
          "text": [
            "ABCDEFGG\n"
          ]
        },
        {
          "output_type": "execute_result",
          "data": {
            "text/plain": [
              "'DFG'"
            ],
            "application/vnd.google.colaboratory.intrinsic+json": {
              "type": "string"
            }
          },
          "metadata": {},
          "execution_count": 280
        }
      ]
    },
    {
      "cell_type": "code",
      "source": [
        "print(s)\n",
        "s[::]"
      ],
      "metadata": {
        "colab": {
          "base_uri": "https://localhost:8080/",
          "height": 54
        },
        "id": "Sdnj8UyNZhtB",
        "outputId": "84a22f3a-4877-478d-8110-597338051582"
      },
      "execution_count": null,
      "outputs": [
        {
          "output_type": "stream",
          "name": "stdout",
          "text": [
            "ABCDEFGG\n"
          ]
        },
        {
          "output_type": "execute_result",
          "data": {
            "text/plain": [
              "'ABCDEFGG'"
            ],
            "application/vnd.google.colaboratory.intrinsic+json": {
              "type": "string"
            }
          },
          "metadata": {},
          "execution_count": 281
        }
      ]
    },
    {
      "cell_type": "code",
      "source": [
        "print(s)\n",
        "s[::3]"
      ],
      "metadata": {
        "colab": {
          "base_uri": "https://localhost:8080/",
          "height": 54
        },
        "id": "i13rrID0ZiUI",
        "outputId": "0c589451-56bb-4a31-ce3a-232bf409c728"
      },
      "execution_count": null,
      "outputs": [
        {
          "output_type": "stream",
          "name": "stdout",
          "text": [
            "ABCDEFGG\n"
          ]
        },
        {
          "output_type": "execute_result",
          "data": {
            "text/plain": [
              "'ADG'"
            ],
            "application/vnd.google.colaboratory.intrinsic+json": {
              "type": "string"
            }
          },
          "metadata": {},
          "execution_count": 282
        }
      ]
    },
    {
      "cell_type": "code",
      "source": [
        "print(s)\n",
        "s[-1:] # Podemos usar índices negativos(posição relativa ao último caractere:"
      ],
      "metadata": {
        "colab": {
          "base_uri": "https://localhost:8080/",
          "height": 54
        },
        "id": "PHUR4AQGZisn",
        "outputId": "98d32e2b-a097-4b70-c58a-01574eb5397f"
      },
      "execution_count": null,
      "outputs": [
        {
          "output_type": "stream",
          "name": "stdout",
          "text": [
            "ABCDEFGG\n"
          ]
        },
        {
          "output_type": "execute_result",
          "data": {
            "text/plain": [
              "'G'"
            ],
            "application/vnd.google.colaboratory.intrinsic+json": {
              "type": "string"
            }
          },
          "metadata": {},
          "execution_count": 283
        }
      ]
    },
    {
      "cell_type": "code",
      "source": [
        "print(s)  \n",
        "s[0:-2] #s[:-2]\n",
        "s[-3:-1] # FG\n",
        "s[-3:] # FGG\n",
        "s[-5:6] # DEF\n",
        "s[-1:-4:-1]  # GGF"
      ],
      "metadata": {
        "colab": {
          "base_uri": "https://localhost:8080/",
          "height": 54
        },
        "id": "RaqdQME6ZpTP",
        "outputId": "64ba3310-61ac-4372-afaa-f3235dc4f2f9"
      },
      "execution_count": null,
      "outputs": [
        {
          "output_type": "stream",
          "name": "stdout",
          "text": [
            "ABCDEFGG\n"
          ]
        },
        {
          "output_type": "execute_result",
          "data": {
            "text/plain": [
              "'GGF'"
            ],
            "application/vnd.google.colaboratory.intrinsic+json": {
              "type": "string"
            }
          },
          "metadata": {},
          "execution_count": 284
        }
      ]
    },
    {
      "cell_type": "code",
      "source": [
        "# Pertinência de sub-string\n",
        "linguagem_preferida = 'Python'\n",
        "'P' in linguagem_preferida #True or False?"
      ],
      "metadata": {
        "colab": {
          "base_uri": "https://localhost:8080/"
        },
        "id": "S6abboSxaFHP",
        "outputId": "41566a61-d37a-4ee5-cf96-34418030c392"
      },
      "execution_count": null,
      "outputs": [
        {
          "output_type": "execute_result",
          "data": {
            "text/plain": [
              "True"
            ]
          },
          "metadata": {},
          "execution_count": 285
        }
      ]
    },
    {
      "cell_type": "code",
      "source": [
        "'p' in linguagem_preferida #True or False? "
      ],
      "metadata": {
        "colab": {
          "base_uri": "https://localhost:8080/"
        },
        "id": "Z2dnqzHRabW4",
        "outputId": "20776eca-76f8-40bf-81bf-6272daa2cf97"
      },
      "execution_count": null,
      "outputs": [
        {
          "output_type": "execute_result",
          "data": {
            "text/plain": [
              "False"
            ]
          },
          "metadata": {},
          "execution_count": 286
        }
      ]
    },
    {
      "cell_type": "code",
      "source": [
        "'n' in linguagem_preferida #True or False?\n"
      ],
      "metadata": {
        "colab": {
          "base_uri": "https://localhost:8080/"
        },
        "id": "mnjbn3e3awDM",
        "outputId": "4cdc232d-30e6-41e3-ae07-2c35358c5c40"
      },
      "execution_count": null,
      "outputs": [
        {
          "output_type": "execute_result",
          "data": {
            "text/plain": [
              "True"
            ]
          },
          "metadata": {},
          "execution_count": 287
        }
      ]
    },
    {
      "cell_type": "code",
      "source": [
        "linguagem_preferida in linguagem_preferida #True or False?"
      ],
      "metadata": {
        "colab": {
          "base_uri": "https://localhost:8080/"
        },
        "id": "Dsq8bR9Eaxbc",
        "outputId": "eea2faba-9c9e-4cf0-dc8e-43bf59fbd813"
      },
      "execution_count": null,
      "outputs": [
        {
          "output_type": "execute_result",
          "data": {
            "text/plain": [
              "True"
            ]
          },
          "metadata": {},
          "execution_count": 288
        }
      ]
    },
    {
      "cell_type": "code",
      "source": [
        "# Strings em Python: Métodos\n",
        "'python'.upper()  # .upper() #para tudo maiúsculo"
      ],
      "metadata": {
        "colab": {
          "base_uri": "https://localhost:8080/",
          "height": 36
        },
        "id": "WczEmxfUax8D",
        "outputId": "aee9f8ef-02ef-4ec4-ae9d-71d76245b961"
      },
      "execution_count": null,
      "outputs": [
        {
          "output_type": "execute_result",
          "data": {
            "text/plain": [
              "'PYTHON'"
            ],
            "application/vnd.google.colaboratory.intrinsic+json": {
              "type": "string"
            }
          },
          "metadata": {},
          "execution_count": 289
        }
      ]
    },
    {
      "cell_type": "code",
      "source": [
        "'python'.lower()  #.lower() para tudo minúsculo"
      ],
      "metadata": {
        "id": "DiMEXP8Nb9oS",
        "outputId": "21c0a60c-8634-4954-f1b8-74255492de87",
        "colab": {
          "base_uri": "https://localhost:8080/",
          "height": 36
        }
      },
      "execution_count": null,
      "outputs": [
        {
          "output_type": "execute_result",
          "data": {
            "text/plain": [
              "'python'"
            ],
            "application/vnd.google.colaboratory.intrinsic+json": {
              "type": "string"
            }
          },
          "metadata": {},
          "execution_count": 290
        }
      ]
    },
    {
      "cell_type": "code",
      "source": [
        "verdade = 'python é legal'"
      ],
      "metadata": {
        "id": "lzJrYw-8bC2x"
      },
      "execution_count": null,
      "outputs": []
    },
    {
      "cell_type": "code",
      "source": [
        "'python'.title()"
      ],
      "metadata": {
        "colab": {
          "base_uri": "https://localhost:8080/",
          "height": 36
        },
        "id": "KwaUA6TibeTJ",
        "outputId": "9fccd774-3332-416a-d7d9-bbc71539857b"
      },
      "execution_count": null,
      "outputs": [
        {
          "output_type": "execute_result",
          "data": {
            "text/plain": [
              "'Python'"
            ],
            "application/vnd.google.colaboratory.intrinsic+json": {
              "type": "string"
            }
          },
          "metadata": {},
          "execution_count": 292
        }
      ]
    },
    {
      "cell_type": "code",
      "source": [
        "' '.join(verdade.split())"
      ],
      "metadata": {
        "colab": {
          "base_uri": "https://localhost:8080/",
          "height": 36
        },
        "id": "9trQ3So4bfif",
        "outputId": "15f10741-5054-42af-8999-dab4702a5256"
      },
      "execution_count": null,
      "outputs": [
        {
          "output_type": "execute_result",
          "data": {
            "text/plain": [
              "'python é legal'"
            ],
            "application/vnd.google.colaboratory.intrinsic+json": {
              "type": "string"
            }
          },
          "metadata": {},
          "execution_count": 293
        }
      ]
    },
    {
      "cell_type": "code",
      "source": [
        "'python é legal'.split()"
      ],
      "metadata": {
        "colab": {
          "base_uri": "https://localhost:8080/"
        },
        "id": "WnZkXYs2bgpR",
        "outputId": "d711a9d8-d82f-460c-b3b3-c67b7968a6aa"
      },
      "execution_count": null,
      "outputs": [
        {
          "output_type": "execute_result",
          "data": {
            "text/plain": [
              "['python', 'é', 'legal']"
            ]
          },
          "metadata": {},
          "execution_count": 294
        }
      ]
    },
    {
      "cell_type": "code",
      "source": [
        "# Strings em Python: Interpolação\n",
        "linguagem_preferida = 'Python'"
      ],
      "metadata": {
        "id": "AxlS2J65bhm3"
      },
      "execution_count": null,
      "outputs": []
    },
    {
      "cell_type": "code",
      "source": [
        "print('Eu amo %s' % (linguagem_preferida))"
      ],
      "metadata": {
        "colab": {
          "base_uri": "https://localhost:8080/"
        },
        "id": "3YSZtCJTcW_d",
        "outputId": "78bce714-8068-48f7-b52d-2001227f647e"
      },
      "execution_count": null,
      "outputs": [
        {
          "output_type": "stream",
          "name": "stdout",
          "text": [
            "Eu amo Python\n"
          ]
        }
      ]
    },
    {
      "cell_type": "code",
      "source": [
        "print('Eu tenho %d anos' % (19))"
      ],
      "metadata": {
        "colab": {
          "base_uri": "https://localhost:8080/"
        },
        "id": "rGFch-SPcdBD",
        "outputId": "2a66fbfd-6ef2-4c62-ff66-23b30f2e4552"
      },
      "execution_count": null,
      "outputs": [
        {
          "output_type": "stream",
          "name": "stdout",
          "text": [
            "Eu tenho 19 anos\n"
          ]
        }
      ]
    },
    {
      "cell_type": "code",
      "source": [
        "print('Eu tenho %02d anos de idade' % (9))"
      ],
      "metadata": {
        "colab": {
          "base_uri": "https://localhost:8080/"
        },
        "id": "Gy4N1BrhcjOV",
        "outputId": "c8b54547-e137-4aa7-d812-6a79e174b6ba"
      },
      "execution_count": null,
      "outputs": [
        {
          "output_type": "stream",
          "name": "stdout",
          "text": [
            "Eu tenho 09 anos de idade\n"
          ]
        }
      ]
    },
    {
      "cell_type": "code",
      "source": [
        "print('Eu tenho %03d anos de idade e %2.5f na poupança' % (19, 100))"
      ],
      "metadata": {
        "colab": {
          "base_uri": "https://localhost:8080/"
        },
        "id": "nRb4owAKcmnz",
        "outputId": "5c86f66f-7a1d-494e-8fc7-7c7aa1a8bda6"
      },
      "execution_count": null,
      "outputs": [
        {
          "output_type": "stream",
          "name": "stdout",
          "text": [
            "Eu tenho 019 anos de idade e 100.00000 na poupança\n"
          ]
        }
      ]
    },
    {
      "cell_type": "code",
      "source": [
        " # Outro método é .format com {}\n",
        "\n",
        "linguagem = str(input('Qual é a melhor linguagem na programação? '))\n",
        "idade = int(input('Quantos anos você tem? '))\n",
        "poupança = float(input('Quanto na poupança você? '))\n",
        "print('Eu tenho {} anos e amo {}. Tenho também {} na poupança!'.format(idade, linguagem, poupança))"
      ],
      "metadata": {
        "colab": {
          "base_uri": "https://localhost:8080/"
        },
        "id": "7kYRtIL0cpoY",
        "outputId": "94968d51-9818-4c39-9bee-967bead5781e"
      },
      "execution_count": null,
      "outputs": [
        {
          "output_type": "stream",
          "name": "stdout",
          "text": [
            "Qual é a melhor linguagem na programação? Python\n",
            "Quantos anos você tem? 26\n",
            "Quanto na poupança você? 0\n",
            "Eu tenho 26 anos e amo Python. Tenho também 0.0 na poupança!\n"
          ]
        }
      ]
    },
    {
      "cell_type": "code",
      "source": [
        "# Desafio = Nome ao contrário em maiúsculas.\n",
        "print('Preencha o campo a seguir:')\n",
        "nome = list(input('Qual é o seu nome? ').upper())\n",
        "nome.reverse()\n",
        "print(nome)"
      ],
      "metadata": {
        "colab": {
          "base_uri": "https://localhost:8080/"
        },
        "id": "Tm3kuobqfwiF",
        "outputId": "40f7b12f-1fea-4c98-cc30-b7de5d016c17"
      },
      "execution_count": null,
      "outputs": [
        {
          "output_type": "stream",
          "name": "stdout",
          "text": [
            "Preencha o campo a seguir:\n",
            "Qual é o seu nome? Gabriel\n",
            "['L', 'E', 'I', 'R', 'B', 'A', 'G']\n"
          ]
        }
      ]
    },
    {
      "cell_type": "code",
      "source": [
        "# Função range()\n",
        "\n",
        "\"\"\"A função range() retorna uma série numérica no intervalo enviado\n",
        "como argumento. A série retornada é um objeto iterável tipo\n",
        "range e os elementos contidos serão gerados sob demanda.\n",
        "É comum o uso da função range() com a estrutura for, loop.\"\"\"\n",
        "\n",
        "# Parâmetros da função range:\n",
        "\n",
        "\"\"\"start - início da sequência\"\"\"\n",
        "\"\"\"stop - último elemento da sequência\"\"\"\n",
        "\"\"\"step - intervalo entre os elementos\"\"\"\n",
        "\n",
        "print(list(range(10))) # Sequência de 0 a 9.\n",
        "print(list(range(1, 11))) # Sequência de 1 0 10.\n",
        "print(list(range(0, 30, 5))) # Sequência de 0 0 30 com ''step'' de 5.\n",
        "print(list(range(0, -10, -1))) # Sequência de 0 a 9 negativa."
      ],
      "metadata": {
        "id": "GC3wGkjahvD7",
        "colab": {
          "base_uri": "https://localhost:8080/"
        },
        "outputId": "1c9aec99-ccfc-47fa-9e24-16ec1adf88e0"
      },
      "execution_count": null,
      "outputs": [
        {
          "output_type": "stream",
          "name": "stdout",
          "text": [
            "[0, 1, 2, 3, 4, 5, 6, 7, 8, 9]\n",
            "[1, 2, 3, 4, 5, 6, 7, 8, 9, 10]\n",
            "[0, 5, 10, 15, 20, 25]\n",
            "[0, -1, -2, -3, -4, -5, -6, -7, -8, -9]\n"
          ]
        }
      ]
    },
    {
      "cell_type": "code",
      "source": [],
      "metadata": {
        "id": "l0l10UbCbJzc"
      },
      "execution_count": null,
      "outputs": []
    }
  ]
}
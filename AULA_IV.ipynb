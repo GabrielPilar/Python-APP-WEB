{
  "nbformat": 4,
  "nbformat_minor": 0,
  "metadata": {
    "colab": {
      "provenance": [],
      "collapsed_sections": []
    },
    "kernelspec": {
      "name": "python3",
      "display_name": "Python 3"
    },
    "language_info": {
      "name": "python"
    }
  },
  "cells": [
    {
      "cell_type": "markdown",
      "source": [
        "O comando **for** (\"para\") é uma estrutura de repetição, que passa suas informações dentro de um cabeçalho.\n",
        "\n",
        "Quanto temos o número de repetições e sabe quando vai acabar."
      ],
      "metadata": {
        "id": "15qBJSqQLVUY"
      }
    },
    {
      "cell_type": "code",
      "source": [
        "for produto in range(0,4):  # '(0,4):' inicialização e condição\n",
        "  p = str(input('Digite o nome do produto: '))\n",
        "  v = float(input('Digite o valor do produto: '))"
      ],
      "metadata": {
        "colab": {
          "base_uri": "https://localhost:8080/"
        },
        "id": "AZbABXH7JupX",
        "outputId": "1918a19d-2cff-4f9b-9232-3d7fdb9ba4e8"
      },
      "execution_count": 4,
      "outputs": [
        {
          "name": "stdout",
          "output_type": "stream",
          "text": [
            "Digite o nome do produto: Copo\n",
            "Digite o valor do produto: 10000\n",
            "Digite o nome do produto: Prato\n",
            "Digite o valor do produto: 20000\n",
            "Digite o nome do produto: Toalha\n",
            "Digite o valor do produto: 30000\n",
            "Digite o nome do produto: Mesa\n",
            "Digite o valor do produto: 40000\n"
          ]
        }
      ]
    },
    {
      "cell_type": "code",
      "source": [
        "for elemento in [1, 2, 3, 4, 5, 6]:\n",
        "  print('Estamos no elemento,', elemento)"
      ],
      "metadata": {
        "colab": {
          "base_uri": "https://localhost:8080/"
        },
        "id": "LEl7xN6ZKq2T",
        "outputId": "e81eb63b-7cde-4622-e41d-e3eb0b62bf56"
      },
      "execution_count": 8,
      "outputs": [
        {
          "output_type": "stream",
          "name": "stdout",
          "text": [
            "Estamos no elemento, 1\n",
            "Estamos no elemento, 2\n",
            "Estamos no elemento, 3\n",
            "Estamos no elemento, 4\n",
            "Estamos no elemento, 5\n",
            "Estamos no elemento, 6\n"
          ]
        }
      ]
    },
    {
      "cell_type": "code",
      "source": [
        "for elemento in 'STRING':\n",
        "  print('Estamos no elemento ', elemento)"
      ],
      "metadata": {
        "colab": {
          "base_uri": "https://localhost:8080/"
        },
        "id": "B8-tWH-3NyIT",
        "outputId": "4f3e191d-1579-462e-e798-4dae705ff4ab"
      },
      "execution_count": null,
      "outputs": [
        {
          "output_type": "stream",
          "name": "stdout",
          "text": [
            "Estamos no elemento  S\n",
            "Estamos no elemento  T\n",
            "Estamos no elemento  R\n",
            "Estamos no elemento  I\n",
            "Estamos no elemento  N\n",
            "Estamos no elemento  G\n"
          ]
        }
      ]
    },
    {
      "cell_type": "code",
      "source": [
        "for elemento in range(len('STRING')):\n",
        "  print('estamos no elemento', elemento)"
      ],
      "metadata": {
        "colab": {
          "base_uri": "https://localhost:8080/"
        },
        "id": "W4_PI2ouOGaC",
        "outputId": "f420f9a5-72c9-4505-b315-180ee06392f0"
      },
      "execution_count": null,
      "outputs": [
        {
          "output_type": "stream",
          "name": "stdout",
          "text": [
            "estamos no elemento 0\n",
            "estamos no elemento 1\n",
            "estamos no elemento 2\n",
            "estamos no elemento 3\n",
            "estamos no elemento 4\n",
            "estamos no elemento 5\n"
          ]
        }
      ]
    },
    {
      "cell_type": "markdown",
      "source": [
        "***While (enquanto) é utilizado como uma estrutura de repetição (loop)***\n",
        "\n",
        "***Funcionamneto: While a condição for atendida, vai se repetir a execução do bloco do código.***\n",
        "\n",
        "Quando não temos o número de repetições e não sabe quando vai acabar."
      ],
      "metadata": {
        "id": "0dMhfYDxMQmg"
      }
    },
    {
      "cell_type": "code",
      "source": [
        "elemento = 0 #Inicialização\n",
        "while elemento <= len([1, 2, 3, 4, 5, 6]):\n",
        "  print('Estamos no elemento ', elemento)\n",
        "  elemento +=1 #Evitar loop infinito"
      ],
      "metadata": {
        "id": "tB-SCbf_PGWM",
        "colab": {
          "base_uri": "https://localhost:8080/"
        },
        "outputId": "c3fea6aa-4da1-4264-c9aa-ca18c8e112e2"
      },
      "execution_count": 17,
      "outputs": [
        {
          "output_type": "stream",
          "name": "stdout",
          "text": [
            "Estamos no elemento  0\n",
            "Estamos no elemento  1\n",
            "Estamos no elemento  2\n",
            "Estamos no elemento  3\n",
            "Estamos no elemento  4\n",
            "Estamos no elemento  5\n",
            "Estamos no elemento  6\n"
          ]
        }
      ]
    },
    {
      "cell_type": "code",
      "source": [
        "s= 'STRING'\n",
        "indice = 0\n",
        "\n",
        "while indice in range (len (s)):\n",
        "  print('Estamos no elemento ', s[indice])\n",
        "  indice +=1"
      ],
      "metadata": {
        "colab": {
          "base_uri": "https://localhost:8080/"
        },
        "id": "saGYwrz3RKjK",
        "outputId": "6e1a7361-2a17-43a7-8095-27ffbf61df1f"
      },
      "execution_count": 18,
      "outputs": [
        {
          "output_type": "stream",
          "name": "stdout",
          "text": [
            "Estamos no elemento  S\n",
            "Estamos no elemento  T\n",
            "Estamos no elemento  R\n",
            "Estamos no elemento  I\n",
            "Estamos no elemento  N\n",
            "Estamos no elemento  G\n"
          ]
        }
      ]
    },
    {
      "cell_type": "markdown",
      "source": [
        "***Função enumerate()***\n",
        "\n",
        "Muitas vezes, ao lidar com iteradores, também temos a\n",
        "necessidade de manter uma contagem de iterações. \n",
        "\n",
        "E Python facilita a tarefa dos programadores fornecendo uma função interna numerate() para esta tarefa.\n",
        "\n",
        "Enumerate() adiciona um contador a um iterável e o retorna em\n",
        "uma forma de objeto enumerador. \n",
        "\n",
        "Esse objeto enumerado pode\n",
        "ser usado diretamente para loops ou convertido em uma lista de\n",
        "tuplas usando o método list()."
      ],
      "metadata": {
        "id": "zE9Q2DhIOHh-"
      }
    },
    {
      "cell_type": "code",
      "source": [
        "palavra='tranquilo'\n",
        "for indice, letra in enumerate(palavra):\n",
        "  print(indice, letra)"
      ],
      "metadata": {
        "colab": {
          "base_uri": "https://localhost:8080/"
        },
        "id": "vJuPX_MQSGB5",
        "outputId": "b76d782c-9804-41f7-c9fa-75fbe62fd5a6"
      },
      "execution_count": 19,
      "outputs": [
        {
          "output_type": "stream",
          "name": "stdout",
          "text": [
            "0 t\n",
            "1 r\n",
            "2 a\n",
            "3 n\n",
            "4 q\n",
            "5 u\n",
            "6 i\n",
            "7 l\n",
            "8 o\n"
          ]
        }
      ]
    },
    {
      "cell_type": "code",
      "source": [
        "lista=['eat','splep', 'repeat']\n",
        "palavra='geek'"
      ],
      "metadata": {
        "id": "YBU63HsYTCHI"
      },
      "execution_count": null,
      "outputs": []
    },
    {
      "cell_type": "code",
      "source": [
        "objeto1= enumerate(lista)\n",
        "objeto2= enumerate(palavra)"
      ],
      "metadata": {
        "id": "5iY576EcT38U"
      },
      "execution_count": null,
      "outputs": []
    },
    {
      "cell_type": "code",
      "source": [
        "print('Tipo: ', type(objeto1))\n",
        "print(list(enumerate(lista)))"
      ],
      "metadata": {
        "colab": {
          "base_uri": "https://localhost:8080/"
        },
        "id": "Qki5ECJHUML4",
        "outputId": "eabcb34d-a6ca-496d-9e5a-8cb6bb7f43e6"
      },
      "execution_count": null,
      "outputs": [
        {
          "output_type": "stream",
          "name": "stdout",
          "text": [
            "Tipo:  <class 'enumerate'>\n",
            "[(0, 'eat'), (1, 'splep'), (2, 'repeat')]\n"
          ]
        }
      ]
    },
    {
      "cell_type": "code",
      "source": [
        "print(list(enumerate(palavra,2))) # indexação inicial de 0 para 2"
      ],
      "metadata": {
        "colab": {
          "base_uri": "https://localhost:8080/"
        },
        "id": "b-5CtD04U2h_",
        "outputId": "0c597eb2-26a8-4365-cc32-357f061a74e9"
      },
      "execution_count": 20,
      "outputs": [
        {
          "output_type": "stream",
          "name": "stdout",
          "text": [
            "[(2, 't'), (3, 'r'), (4, 'a'), (5, 'n'), (6, 'q'), (7, 'u'), (8, 'i'), (9, 'l'), (10, 'o')]\n"
          ]
        }
      ]
    },
    {
      "cell_type": "markdown",
      "source": [
        "*Quantas vezes a palavra Oi é impressa pelos seguintes comandos?*"
      ],
      "metadata": {
        "id": "vioF_tXfOuEb"
      }
    },
    {
      "cell_type": "code",
      "source": [
        "s = 'viva o python'\n",
        "\n",
        "for ch in s: \n",
        "  print('oi')"
      ],
      "metadata": {
        "colab": {
          "base_uri": "https://localhost:8080/"
        },
        "id": "_kxJBHlZVJl7",
        "outputId": "7dec7a7f-0cf1-40b9-b839-17efc688061d"
      },
      "execution_count": 21,
      "outputs": [
        {
          "output_type": "stream",
          "name": "stdout",
          "text": [
            "oi\n",
            "oi\n",
            "oi\n",
            "oi\n",
            "oi\n",
            "oi\n",
            "oi\n",
            "oi\n",
            "oi\n",
            "oi\n",
            "oi\n",
            "oi\n",
            "oi\n"
          ]
        }
      ]
    },
    {
      "cell_type": "code",
      "source": [
        "s = 'viva o python'\n",
        "for ch in s[3:8]:\n",
        "  print('Oi')"
      ],
      "metadata": {
        "colab": {
          "base_uri": "https://localhost:8080/"
        },
        "id": "v0DACAUDV2ct",
        "outputId": "93e1d275-0c85-416d-ccde-1e8e4449f22d"
      },
      "execution_count": 22,
      "outputs": [
        {
          "output_type": "stream",
          "name": "stdout",
          "text": [
            "Oi\n",
            "Oi\n",
            "Oi\n",
            "Oi\n",
            "Oi\n"
          ]
        }
      ]
    },
    {
      "cell_type": "markdown",
      "source": [
        "**Desafios:**"
      ],
      "metadata": {
        "id": "DVO6s8LCi07E"
      }
    },
    {
      "cell_type": "markdown",
      "source": [
        "1. *Faça um programa que peça 10 números inteiros,\n",
        "calcule e mostre a quantidade de números pares e\n",
        "a quantidade de números ímpares.*"
      ],
      "metadata": {
        "id": "P-bKn0CdO44V"
      }
    },
    {
      "cell_type": "code",
      "source": [
        "# A) Solicitar 10 números inteiros. \n",
        "# B) Calcular e mostrar a quantidade de números ímpares"
      ],
      "metadata": {
        "id": "qh9Ov8BiXJNK"
      },
      "execution_count": 23,
      "outputs": []
    },
    {
      "cell_type": "code",
      "source": [
        "lista = [[], []]\n",
        "numerointeiro = 0\n",
        "for c in range(10):\n",
        "  numerointeiro = int(input('Digite 10 números inteiros: '))\n",
        "  if numerointeiro % 2 == 0:\n",
        "    lista[0].append(numerointeiro)\n",
        "  else:\n",
        "    lista[1].append(numerointeiro)\n",
        "\n",
        "print('Todos os numeros inteiros: ',lista)\n",
        "print('Todos os números pares: ', lista[0])\n",
        "print('Todos os números ímpares: ', lista[1])\n",
        "print('Quantidade de números pares: ', len(lista[0]))\n",
        "print('Quantidade de números pares: ', len(lista[1]))"
      ],
      "metadata": {
        "colab": {
          "base_uri": "https://localhost:8080/"
        },
        "id": "MtS6UbMRXaYm",
        "outputId": "0b19c6b7-f2cf-4620-d568-e3e0bb3638f6"
      },
      "execution_count": 75,
      "outputs": [
        {
          "output_type": "stream",
          "name": "stdout",
          "text": [
            "Digite 10 números inteiros: 2\n",
            "Digite 10 números inteiros: 3\n",
            "Digite 10 números inteiros: 4\n",
            "Digite 10 números inteiros: 5\n",
            "Digite 10 números inteiros: 11\n",
            "Digite 10 números inteiros: 23\n",
            "Digite 10 números inteiros: 22\n",
            "Digite 10 números inteiros: 245\n",
            "Digite 10 números inteiros: 24\n",
            "Digite 10 números inteiros: 55\n",
            "Todos os numeros inteiros:  [[2, 4, 22, 24], [3, 5, 11, 23, 245, 55]]\n",
            "Todos os números pares:  [2, 4, 22, 24]\n",
            "Todos os números ímpares:  [3, 5, 11, 23, 245, 55]\n",
            "Quantidade de números pares:  4\n",
            "Quantidade de números pares:  6\n"
          ]
        }
      ]
    },
    {
      "cell_type": "code",
      "source": [
        "z = 0 \n",
        "v = 0 \n",
        "\n",
        "for x in range(10):\n",
        "  y = float(input('Digite um número: '))\n",
        "  if( y % 2) == 0: z = z + 1\n",
        "  else: v = v + 1\n",
        "  \n",
        "print('A quantidade total de pares é: ', z)\n",
        "print('A quantidade total de ímpares é: ', v)\n",
        "\n"
      ],
      "metadata": {
        "colab": {
          "base_uri": "https://localhost:8080/"
        },
        "id": "rIdRZNX2ZzgQ",
        "outputId": "dcb3ccef-fdb3-462b-fd73-c29661fde2b1"
      },
      "execution_count": null,
      "outputs": [
        {
          "output_type": "stream",
          "name": "stdout",
          "text": [
            "Digite um número: 1\n",
            "Digite um número: 2\n",
            "Digite um número: 3\n",
            "Digite um número: 4\n",
            "Digite um número: 5\n",
            "Digite um número: 6\n",
            "Digite um número: 7\n",
            "Digite um número: 8\n",
            "Digite um número: 9\n",
            "Digite um número: 10\n",
            "A quantidade total de pares é:  5\n",
            "A quantidade total de ímpares é:  5\n"
          ]
        }
      ]
    },
    {
      "cell_type": "code",
      "source": [
        "x = 0\n",
        "z = 0 \n",
        "v = 0 \n",
        "\n",
        "while x < 10:\n",
        "  y = float(input('Digite um número: '))\n",
        "  if( y % 2) == 0: z = z + 1\n",
        "  else: v = v + 1\n",
        "  x += 1\n",
        "  \n",
        "print('A quantidade total de pares é: ', z)\n",
        "print('A quantidade total de ímpares é: ', v)"
      ],
      "metadata": {
        "colab": {
          "base_uri": "https://localhost:8080/"
        },
        "id": "nM5llDhFbo1q",
        "outputId": "17275413-e823-46fa-8263-056f8a98b95b"
      },
      "execution_count": null,
      "outputs": [
        {
          "output_type": "stream",
          "name": "stdout",
          "text": [
            "Digite um número: 1\n",
            "Digite um número: 2\n",
            "Digite um número: 3\n",
            "Digite um número: 4\n",
            "Digite um número: 5\n",
            "Digite um número: 6\n",
            "Digite um número: 7\n",
            "Digite um número: 8\n",
            "Digite um número: 9\n",
            "Digite um número: 10\n",
            "A quantidade total de pares é:  5\n",
            "A quantidade total de ímpares é:  5\n"
          ]
        }
      ]
    },
    {
      "cell_type": "markdown",
      "source": [
        "2. *Crie uma estrutura que pergunte ao usuário qual o\n",
        "dia da semana. Se o dia for igual a Domingo ou igual a\n",
        "sábado, imprima na tela \"Hoje é dia de descanso\", caso\n",
        "contrário imprima na tela \"Você precisa trabalhar!\".*"
      ],
      "metadata": {
        "id": "iOaHbA1XiVCk"
      }
    },
    {
      "cell_type": "code",
      "source": [
        "dia = input('Que dia da semana é hoje?: ').lower()\n",
        "if (dia == 'sabado') or (dia == 'sábado') or (dia == 'domingo'):\n",
        "  print('Hoje é dia de descanso! =)')\n",
        "else: print('Você precisa trabalhar!')"
      ],
      "metadata": {
        "colab": {
          "base_uri": "https://localhost:8080/"
        },
        "id": "B9doM0ZMcl_w",
        "outputId": "9c6c3658-7598-46e5-9d10-3501cda45d69"
      },
      "execution_count": 59,
      "outputs": [
        {
          "output_type": "stream",
          "name": "stdout",
          "text": [
            "Que dia da semana é hoje?: Segunda\n",
            "Você precisa trabalhar!\n"
          ]
        }
      ]
    },
    {
      "cell_type": "markdown",
      "source": [
        "3. *Faça um programa que cria uma lista\n",
        "automaticamente usando a função range() e imprima na\n",
        "tela apenas os números pares.\n",
        "Sempre que encontrar um número ímpar multiplicar por\n",
        "ele mesmo e mostrar na tela.*"
      ],
      "metadata": {
        "id": "c6BXptW1iZ0X"
      }
    },
    {
      "cell_type": "code",
      "source": [
        "lista = [[],[]]\n",
        "núm = 0\n",
        "for c in range(4):\n",
        "  núm = int(input('Digite um número: '))\n",
        "  if núm % 2 == 0:\n",
        "    lista[0].append(núm)\n",
        "  else: \n",
        "    lista[1].append(núm)\n",
        "    print(núm*núm)\n",
        "print('Os números pares são: ', lista[0])\n",
        "print('Os números ímpares são: ', lista[1])"
      ],
      "metadata": {
        "colab": {
          "base_uri": "https://localhost:8080/"
        },
        "id": "givIZkI2iANh",
        "outputId": "0589e615-4d44-4d35-a978-dfc1f9165e63"
      },
      "execution_count": 80,
      "outputs": [
        {
          "output_type": "stream",
          "name": "stdout",
          "text": [
            "Digite um número: 2\n",
            "Digite um número: 3\n",
            "9\n",
            "Digite um número: 4\n",
            "Digite um número: 5\n",
            "25\n",
            "Os números pares são:  [2, 4]\n",
            "Os números ímpares são:  [3, 5]\n"
          ]
        }
      ]
    },
    {
      "cell_type": "markdown",
      "source": [
        "4. *Faça um programa para percorrer uma palavra e imprimir\n",
        "na tela apenas as letras que são vogais e mostrar em qual\n",
        "índice da palavra cada vogal está associada.*"
      ],
      "metadata": {
        "id": "iV8oUsgCigOA"
      }
    },
    {
      "cell_type": "code",
      "source": [
        "words = input('Digite uma palavra: ')\n",
        "for indice, letra in enumerate(words):\n",
        "   letra == 'a' or letra == 'e' or letra == 'i' or letra =='o' or letra == 'u':\n",
        "    print('Indice/Vogais', indice, '>', letra)"
      ],
      "metadata": {
        "colab": {
          "base_uri": "https://localhost:8080/"
        },
        "id": "gk4XIl-xihLz",
        "outputId": "ab7e983a-ff54-44ed-ca8e-13a55b803196"
      },
      "execution_count": 128,
      "outputs": [
        {
          "output_type": "stream",
          "name": "stdout",
          "text": [
            "Digite uma palavra: teste\n",
            "Indice/Vogais 1 > e\n",
            "Indice/Vogais 4 > e\n"
          ]
        }
      ]
    }
  ]
}
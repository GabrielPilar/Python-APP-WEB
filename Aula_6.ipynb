{
  "nbformat": 4,
  "nbformat_minor": 0,
  "metadata": {
    "colab": {
      "provenance": []
    },
    "kernelspec": {
      "name": "python3",
      "display_name": "Python 3"
    },
    "language_info": {
      "name": "python"
    }
  },
  "cells": [
    {
      "cell_type": "code",
      "execution_count": null,
      "metadata": {
        "id": "SB3iUcMvCqTO"
      },
      "outputs": [],
      "source": [
        "class pessoa:\n",
        "    def __init__(self, nome, idade):\n",
        "        self.__nome = nome\n",
        "        self.__idade = idade\n",
        "    def get_nome(self):\n",
        "        return self.__nome\n",
        "\n",
        "#Accessor: Metódo para acessar sem modificar uma instância."
      ]
    },
    {
      "cell_type": "code",
      "source": [
        "class Pessoa:\n",
        "    def ___init__ (self, nome, idade):\n",
        "        self.__nome = nome \n",
        "        self.__idade = idade\n",
        "\n",
        "    def get_nome(self):\n",
        "        return self.__nome\n",
        "    \n",
        "    def set_nome(self, novo_nome):\n",
        "        self.__nome = novo_nome\n",
        "\n",
        "# Mutador ou modificador: Método que modifica uma instância."
      ],
      "metadata": {
        "id": "dU8qltmSCq7J"
      },
      "execution_count": null,
      "outputs": []
    },
    {
      "cell_type": "code",
      "source": [
        "# Declarando uma classe:\n",
        "\n",
        "class Pessoa():\n",
        "\n",
        "    # Criando o construtor para classe Pessoa\n",
        "\n",
        "    def __init__(self, nome, idade):\n",
        "\n",
        "        #Atributos privados\n",
        "\n",
        "        self.__nome = nome\n",
        "        self.__idade = idade\n",
        "\n",
        "        # Declarando nossos métodos de acesso dos atributos da classe\n",
        "\n",
        "        def getNome(self):\n",
        "            return self.__nome\n",
        "\n",
        "        def getNome(self):\n",
        "            return self.__idade\n",
        "        \n",
        "        # Declarando nosso métodos modifiicadores dos atributos da Classe\n",
        "\n",
        "        def getNome(self,nome):\n",
        "            self.__nome = nome\n",
        "\n",
        "        def getNome(self,idade):\n",
        "            self.__idade = idade\n",
        "\n",
        "        def imprimir(self):\n",
        "            print ('Me chama %s e tenho %d anos'%(self, getNome(), self.getIddad()))"
      ],
      "metadata": {
        "id": "qJp8XYn_CsFo"
      },
      "execution_count": null,
      "outputs": []
    },
    {
      "cell_type": "code",
      "source": [
        "# Criando uma instância de Pessoa\n",
        "\n",
        "pessoa = Pessoa('Felipe', 28)\n",
        "\n",
        "# Chamando o método da Classe\n",
        "\n",
        "pessoa.imprimir()\n",
        "\n",
        "# Mudando o valor do nome usando o método modificador\n",
        "\n",
        "pessoa.setNome('Paulo')\n",
        "\n",
        "# Chamando o método da classe\n",
        "\n",
        "pessoa.imprimir()"
      ],
      "metadata": {
        "id": "J5p_As9XCuM5"
      },
      "execution_count": null,
      "outputs": []
    }
  ]
}
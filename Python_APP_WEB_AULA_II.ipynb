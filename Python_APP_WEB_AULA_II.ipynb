{
  "nbformat": 4,
  "nbformat_minor": 0,
  "metadata": {
    "colab": {
      "provenance": []
    },
    "kernelspec": {
      "name": "python3",
      "display_name": "Python 3"
    },
    "language_info": {
      "name": "python"
    }
  },
  "cells": [
    {
      "cell_type": "code",
      "source": [
        "valor1 = input('Digite um número inteiro:')\n",
        "valor2 = input('Digite outro número inteiro:')"
      ],
      "metadata": {
        "colab": {
          "base_uri": "https://localhost:8080/"
        },
        "id": "MgJEx7T9F7a0",
        "outputId": "51235377-742b-4e44-f3ce-1384dc449277"
      },
      "execution_count": null,
      "outputs": [
        {
          "name": "stdout",
          "output_type": "stream",
          "text": [
            "Digite um número inteiro:20\n",
            "Digite outro número inteiro:100\n"
          ]
        }
      ]
    },
    {
      "cell_type": "code",
      "source": [
        "print(valor1 == valor2)\n",
        "print(valor2 > valor2)\n",
        "print(valor1 < valor2)\n",
        "print(valor1 >= valor2)\n",
        "print(valor1 <= valor2)"
      ],
      "metadata": {
        "colab": {
          "base_uri": "https://localhost:8080/"
        },
        "id": "1rTcvpNxGScN",
        "outputId": "7d2b9741-4f2e-4ff6-d1f0-c74f8934247d"
      },
      "execution_count": null,
      "outputs": [
        {
          "output_type": "stream",
          "name": "stdout",
          "text": [
            "False\n",
            "False\n",
            "False\n",
            "True\n",
            "False\n"
          ]
        }
      ]
    },
    {
      "cell_type": "code",
      "source": [
        "numero = 10 \n",
        "print(numero > 0 and numero < 10)\n",
        "\n",
        "# Conectivo de conjunção: and"
      ],
      "metadata": {
        "colab": {
          "base_uri": "https://localhost:8080/"
        },
        "id": "t6RsJhABHTh8",
        "outputId": "a6a67349-3cce-40a0-dd5b-c3dee1f39a78"
      },
      "execution_count": null,
      "outputs": [
        {
          "output_type": "stream",
          "name": "stdout",
          "text": [
            "False\n"
          ]
        }
      ]
    },
    {
      "cell_type": "code",
      "source": [
        "numero = 10\n",
        "print(numero > 0 or numero < 10)\n",
        "\n",
        "# Conectivo de conjunção: or"
      ],
      "metadata": {
        "colab": {
          "base_uri": "https://localhost:8080/"
        },
        "id": "oBaP6VQdKKZk",
        "outputId": "5b0ec14b-c8db-4b34-c6cb-5d98605db859"
      },
      "execution_count": null,
      "outputs": [
        {
          "output_type": "stream",
          "name": "stdout",
          "text": [
            "True\n"
          ]
        }
      ]
    },
    {
      "cell_type": "code",
      "source": [
        "if ( ):\n",
        "  print()\n",
        "else:\n",
        "  print()\n",
        "  \n",
        "  #Exemplo de estrutura do se/senão em Python."
      ],
      "metadata": {
        "colab": {
          "base_uri": "https://localhost:8080/"
        },
        "id": "079J17AYKXj1",
        "outputId": "2cc61331-e09b-4968-8e17-ead22cf1e650"
      },
      "execution_count": null,
      "outputs": [
        {
          "output_type": "stream",
          "name": "stdout",
          "text": [
            "\n"
          ]
        }
      ]
    },
    {
      "cell_type": "code",
      "source": [
        "n = int(input('Digite um número inteiro: '))\n",
        "\n",
        "if n % 2 == 0: \n",
        "  print(n, 'é par')\n",
        "\n",
        "  \n",
        "    #se n é múltiplo de 2\n",
        "\n",
        "else: \n",
        "  print(n , 'é impar')\n",
        "\n",
        "   #se n não é múltiplo de 2\n",
        "\n",
        "  print('Fim.')"
      ],
      "metadata": {
        "colab": {
          "base_uri": "https://localhost:8080/"
        },
        "id": "pRr8jWXKLBj8",
        "outputId": "e1cc9a74-50f9-471a-b0cd-d3d09c0030f9"
      },
      "execution_count": 1,
      "outputs": [
        {
          "output_type": "stream",
          "name": "stdout",
          "text": [
            "Digite um número inteiro: 150\n",
            "150 é par\n"
          ]
        }
      ]
    },
    {
      "cell_type": "code",
      "source": [
        "# OU\n",
        "\n",
        "n = int(input('Digite um número inteiro: '))\n",
        "\n",
        "if n % 2 == 0: \n",
        "  print(n, 'é par')\n",
        "\n",
        "     #se n É múltiplo de 2\n",
        "\n",
        "if n % 2 !=0: \n",
        "  print(n , 'é impar')\n",
        "\n",
        "     #se n NÃO É múltiplo de 2\n",
        "\n",
        "  print('Fim.')"
      ],
      "metadata": {
        "colab": {
          "base_uri": "https://localhost:8080/"
        },
        "id": "7mC6RllHOa5N",
        "outputId": "80e52d04-c2e9-45b5-b51a-d3209137af84"
      },
      "execution_count": null,
      "outputs": [
        {
          "output_type": "stream",
          "name": "stdout",
          "text": [
            "Digite um número inteiro: 99\n",
            "99 é impar\n",
            "Fim.\n"
          ]
        }
      ]
    },
    {
      "cell_type": "code",
      "source": [
        "#Utilizando input, vamos armazenar o valor digitado pelo usuário:\n",
        "\n",
        "cupom = input('Digite o cupom: ')"
      ],
      "metadata": {
        "colab": {
          "base_uri": "https://localhost:8080/"
        },
        "id": "QXieP7A-P_K0",
        "outputId": "de35fdc6-e90e-45da-c7f6-bd54fd323171"
      },
      "execution_count": null,
      "outputs": [
        {
          "name": "stdout",
          "output_type": "stream",
          "text": [
            "Digite o cupom: aula1\n"
          ]
        }
      ]
    },
    {
      "cell_type": "code",
      "source": [
        "#Agora vamos usar operadores condicionais e desvio condicional:\n",
        "\n",
        "if (cupom == 'aula1' or cupom == 'aula2' ):\n",
        "  print('Você ganhou 10% de desconto!')"
      ],
      "metadata": {
        "id": "7bvqlSnNRRZO"
      },
      "execution_count": null,
      "outputs": []
    },
    {
      "cell_type": "code",
      "source": [
        "#Utilizando input, vamos armazenar o valor digitado pelo usuário:\n",
        "\n",
        "cupom = input('Digite o cupom: ')\n"
      ],
      "metadata": {
        "colab": {
          "base_uri": "https://localhost:8080/"
        },
        "id": "Rl1dFbydSUgR",
        "outputId": "9d495988-bb7e-40b5-d349-69fdad201717"
      },
      "execution_count": null,
      "outputs": [
        {
          "name": "stdout",
          "output_type": "stream",
          "text": [
            "Digite o cupom: DESCONTO10\n"
          ]
        }
      ]
    },
    {
      "cell_type": "code",
      "source": [
        "#Agora vamos usar operadores condicionais e desvio condicional:\n",
        "\n",
        "if (cupom == 'DESCONTO10' or cupom == 'DESCONTO20'):\n",
        "  print('Você ganhou 10% de desconto!')\n",
        "\n",
        "else:\n",
        "  print('cupom inválido')"
      ],
      "metadata": {
        "colab": {
          "base_uri": "https://localhost:8080/"
        },
        "id": "N703NqDrSxVw",
        "outputId": "e58781dc-eee6-4b7d-d306-dc3a078f6c22"
      },
      "execution_count": null,
      "outputs": [
        {
          "output_type": "stream",
          "name": "stdout",
          "text": [
            "Você ganhou 10% de desconto!\n"
          ]
        }
      ]
    },
    {
      "cell_type": "code",
      "source": [
        "# Se o cupom for válido (aula1 aula2): \n",
        "# Aplicar 15% de desconto.\n",
        "# Senão, aplicar 5% de desconto."
      ],
      "metadata": {
        "id": "yh_gldg4TKv4"
      },
      "execution_count": null,
      "outputs": []
    },
    {
      "cell_type": "code",
      "source": [
        "cupom = input('Digite o cupom: ')\n",
        "\n",
        "if (cupom == 'aula1' or cupom == 'aula2'):\n",
        " print('Você ganhou 15% de desconto!')\n",
        "\n",
        "else: \n",
        "  print('Você ganhou 5% de desconto!')\n",
        "  \n"
      ],
      "metadata": {
        "colab": {
          "base_uri": "https://localhost:8080/"
        },
        "id": "u2_SFWPGT1y9",
        "outputId": "2a8f2c5d-c9e0-4e09-bde7-b15dc175cb52"
      },
      "execution_count": null,
      "outputs": [
        {
          "output_type": "stream",
          "name": "stdout",
          "text": [
            "Digite o cupom: aula2\n",
            "Você ganhou 15% de desconto!\n"
          ]
        }
      ]
    },
    {
      "cell_type": "code",
      "source": [
        "cupom = input('Digite o cupom: ')\n",
        "\n",
        "if (cupom == 'DESCONTO15' or cupom == 'DESCONTO'):\n",
        " print('Você ganhou 15% de desconto!')\n",
        "\n",
        "else: \n",
        "  print('Você ganhou 5% de desconto!')"
      ],
      "metadata": {
        "colab": {
          "base_uri": "https://localhost:8080/"
        },
        "id": "nF9vygRYU10E",
        "outputId": "e2b8bdee-1a74-4420-b346-f99b89d168f9"
      },
      "execution_count": null,
      "outputs": [
        {
          "output_type": "stream",
          "name": "stdout",
          "text": [
            "Digite o cupom: DESCONTO100\n",
            "Você ganhou 5% de desconto!\n"
          ]
        }
      ]
    },
    {
      "cell_type": "code",
      "source": [
        "#elif\n",
        "#Quando tempos mais de duas situações possíveis, podemos usar elif, além do if e do else."
      ],
      "metadata": {
        "id": "fhF90d5vVapT"
      },
      "execution_count": null,
      "outputs": []
    },
    {
      "cell_type": "code",
      "source": [
        "if ( ):\n",
        "  print()\n",
        "elif ( ):\n",
        "  print()\n",
        "else:\n",
        "  print()\n",
        "\n",
        "#ELSE NÃO PODE TER PARÊNTESES"
      ],
      "metadata": {
        "colab": {
          "base_uri": "https://localhost:8080/"
        },
        "id": "z8bgWaLUVxgD",
        "outputId": "b3ba4474-552a-48a4-be28-6d07dfefb916"
      },
      "execution_count": null,
      "outputs": [
        {
          "output_type": "stream",
          "name": "stdout",
          "text": [
            "\n"
          ]
        }
      ]
    },
    {
      "cell_type": "code",
      "source": [
        "#DESAFIO\n",
        "\n",
        "# Agora, temos 2 descontos válidos.\n",
        "# Se o cupom for aula1, aplicar 15% de desconto.\n",
        "# Se o cupom for aula2, aplicar 10% de desconto.\n",
        "# Senão, aplicar 5% de desconto."
      ],
      "metadata": {
        "id": "ajtppgzIWH3R"
      },
      "execution_count": null,
      "outputs": []
    },
    {
      "cell_type": "code",
      "source": [
        "cupom = input('Digite o cupom: ')\n",
        "\n",
        "if (cupom == 'aula1'):\n",
        " print('Você ganhou 15% de desconto!')\n",
        "\n",
        "elif (cupom == 'aula2'):\n",
        "  print('Você ganhou 10% de desconto!')\n",
        "\n",
        "else: \n",
        "  print('Você ganhou 5% de desconto!')\n",
        "\n",
        "\n",
        "  #DESAFIO"
      ],
      "metadata": {
        "colab": {
          "base_uri": "https://localhost:8080/"
        },
        "id": "p3YwiCDeWioi",
        "outputId": "72b19f39-d1b8-4118-af78-3fea346f4f9d"
      },
      "execution_count": null,
      "outputs": [
        {
          "output_type": "stream",
          "name": "stdout",
          "text": [
            "Digite o cupom: aula1\n",
            "Você ganhou 15% de desconto!\n"
          ]
        }
      ]
    },
    {
      "cell_type": "code",
      "source": [
        "cupom = input('Digite o cupom: ')\n",
        "\n",
        "if (cupom == 'aula1'):\n",
        " print('Você ganhou 15% de desconto!')\n",
        "\n",
        "elif (cupom == 'aula2'):\n",
        "  print('Você ganhou 10% de desconto!')\n",
        "\n",
        "else: \n",
        "  print('Você ganhou 5% de desconto!')\n",
        "\n",
        "  #DESAFIO"
      ],
      "metadata": {
        "colab": {
          "base_uri": "https://localhost:8080/"
        },
        "id": "lIohcxQfWsxS",
        "outputId": "e4073927-a429-4c68-a59f-a55f45cd7ad8"
      },
      "execution_count": null,
      "outputs": [
        {
          "output_type": "stream",
          "name": "stdout",
          "text": [
            "Digite o cupom: aula2\n",
            "Você ganhou 10% de desconto!\n"
          ]
        }
      ]
    },
    {
      "cell_type": "code",
      "source": [
        "cupom = input('Digite o cupom: ')\n",
        "\n",
        "if (cupom == 'aula1'):\n",
        " print('Você ganhou 15% de desconto!')\n",
        "\n",
        "elif (cupom == 'aula2'):\n",
        "  print('Você ganhou 10% de desconto!')\n",
        "\n",
        "else: \n",
        "  print('Você ganhou 5% de desconto!')\n",
        "\n",
        "  #DESAFIO\n"
      ],
      "metadata": {
        "colab": {
          "base_uri": "https://localhost:8080/"
        },
        "id": "hSJVx8DQXHAk",
        "outputId": "d6e49137-18e0-4ad2-ba30-eebfb4d12b66"
      },
      "execution_count": null,
      "outputs": [
        {
          "output_type": "stream",
          "name": "stdout",
          "text": [
            "Digite o cupom: DESCONTOQUALQUER\n",
            "Você ganhou 5% de desconto!\n"
          ]
        }
      ]
    },
    {
      "cell_type": "code",
      "source": [
        "cupom = input('Digite o cupom: ')\n",
        "\n",
        "if (cupom == 'aula1'):\n",
        " print('Você ganhou 15% de desconto!')\n",
        "\n",
        "elif (cupom == 'aula2'):\n",
        "  print('Você ganhou 10% de desconto!')\n",
        "\n",
        "elif (cupom == 'aula3'):\n",
        "  print('Você ganhou 20% de desconto!')\n",
        "\n",
        "else: \n",
        "  print('Você ganhou 5% de desconto!')\n",
        "\n",
        "  #DESAFIO"
      ],
      "metadata": {
        "colab": {
          "base_uri": "https://localhost:8080/"
        },
        "id": "_v_waWEbXIjv",
        "outputId": "76997595-54b0-44e5-c130-f4d26b3212a3"
      },
      "execution_count": null,
      "outputs": [
        {
          "output_type": "stream",
          "name": "stdout",
          "text": [
            "Digite o cupom: aula3\n",
            "Você ganhou 20% de desconto!\n"
          ]
        }
      ]
    },
    {
      "cell_type": "code",
      "source": [
        "# INDENTAÇÃO\n",
        "\n",
        "# SIGNIFICA ''UM ESPAÇO NO COMEÇO DE UMA LINHA ESCRITA OU DE UM PARAGRAFO''.\n",
        "\n",
        "# EM PYTHON, É DE EXTREMA IMPORTÂNCIA, MERECENDO MUITA ATENÇÃO E PRÁTICA.\n",
        "\n",
        "# EM DECORRÊNCIA DA ''LIBERDADE'' DO PYTHON (DISPENSANDO EXCESSO DE CHAVES, PARÊNTESES E COLCHETES) A INDENTAÇAO A TAREFA DE ORGANIZAR!\n",
        " "
      ],
      "metadata": {
        "id": "BEigTSKXXWNz"
      },
      "execution_count": null,
      "outputs": []
    },
    {
      "cell_type": "code",
      "source": [
        "if (1 ==1): # Mensagem no Primeiro nível\n",
        "  print('Mensagem no segundo nível') # Segundo nível\n",
        "  if((1==2) == False):\n",
        "    print('Mensagem no terceiro nível') # Terceiro nível"
      ],
      "metadata": {
        "colab": {
          "base_uri": "https://localhost:8080/"
        },
        "id": "j4pWI7QcYSUr",
        "outputId": "c67b93df-fddf-4dcb-a8a4-9743656153af"
      },
      "execution_count": null,
      "outputs": [
        {
          "output_type": "stream",
          "name": "stdout",
          "text": [
            "Mensagem no segundo nível\n",
            "Mensagem no terceiro nível\n"
          ]
        }
      ]
    },
    {
      "cell_type": "code",
      "source": [
        "# Se (if) sol e (and) dinheiro, então = praia.\n",
        "# Senão, netflix."
      ],
      "metadata": {
        "id": "U-YSKRLIZRSt"
      },
      "execution_count": null,
      "outputs": []
    },
    {
      "cell_type": "code",
      "source": [
        "tempo = input('Está fazendo sol? ')\n",
        "dinheiro = input('Você tem dinheiro?')\n",
        "\n",
        "if (tempo == 'sim' and dinheiro =='sim'):\n",
        "  print('Vamos à praia.')\n",
        "\n",
        "else:\n",
        "  print('Vamos assistir Netflix.')"
      ],
      "metadata": {
        "colab": {
          "base_uri": "https://localhost:8080/"
        },
        "id": "VeUxGIlya1bK",
        "outputId": "2c574bd1-5050-48a1-9f04-713e4d140a54"
      },
      "execution_count": null,
      "outputs": [
        {
          "output_type": "stream",
          "name": "stdout",
          "text": [
            "Está fazendo sol? sim\n",
            "Você tem dinheiro?sim\n",
            "Vamos à praia.\n"
          ]
        }
      ]
    },
    {
      "cell_type": "code",
      "source": [
        "tempo = input('Está fazendo sol? ')\n",
        "dinheiro = input('Você tem dinheiro?')\n",
        "\n",
        "if (tempo == 'sim' and dinheiro =='sim'):\n",
        "  print('Vamos à praia.')\n",
        "\n",
        "else:\n",
        "  print('Vamos assistir Netflix.')"
      ],
      "metadata": {
        "colab": {
          "base_uri": "https://localhost:8080/"
        },
        "id": "iO-fleh1bs3f",
        "outputId": "1ea6294f-944a-4c3a-eaee-0db9d9829d86"
      },
      "execution_count": null,
      "outputs": [
        {
          "output_type": "stream",
          "name": "stdout",
          "text": [
            "Está fazendo sol? não\n",
            "Você tem dinheiro?sim\n",
            "Vamos assistir Netflix.\n"
          ]
        }
      ]
    },
    {
      "cell_type": "code",
      "source": [
        "tempo = input('Está fazendo sol? ')\n",
        "dinheiro = input('Você tem dinheiro?')\n",
        "\n",
        "if (tempo == 'sim' or dinheiro =='sim'):\n",
        "  print('Vamos à praia.')\n",
        "\n",
        "else:\n",
        "  print('Vamos assistir Netflix.')"
      ],
      "metadata": {
        "id": "ScwuXZiwebp9"
      },
      "execution_count": null,
      "outputs": []
    },
    {
      "cell_type": "code",
      "source": [
        "tempo = input('Está fazendo sol? ')\n",
        "dinheiro = input('Você tem dinheiro?')\n",
        "\n",
        "if (tempo == 'sim' or dinheiro =='sim'):\n",
        "  print('Vamos à praia.')\n",
        "\n",
        "else:\n",
        "  print('Vamos assistir Netflix.')"
      ],
      "metadata": {
        "colab": {
          "base_uri": "https://localhost:8080/"
        },
        "id": "fASUj0JQen93",
        "outputId": "bf42760f-0d29-403e-9bc1-6983b284ec9d"
      },
      "execution_count": null,
      "outputs": [
        {
          "output_type": "stream",
          "name": "stdout",
          "text": [
            "Está fazendo sol? Sim\n",
            "Você tem dinheiro?Sim\n",
            "Vamos assistir Netflix.\n"
          ]
        }
      ]
    },
    {
      "cell_type": "code",
      "source": [
        "tempo = input('Está fazendo sol?')\n",
        "\n",
        "if (tempo == 'sim'):\n",
        "  dinheiro = input('Você tem dinheiro? ')\n",
        "  if (dinheiro == 'sim'):\n",
        "    print('Vamos à praia.')\n",
        "  else:\n",
        "    print('Vá ligar o ventilador.')\n",
        "\n",
        "else:\n",
        "  print('Vamos assistir Netflix.')"
      ],
      "metadata": {
        "colab": {
          "base_uri": "https://localhost:8080/"
        },
        "id": "JbNuT7F6fD_k",
        "outputId": "179e0c08-f756-4c58-bcdb-a1b50d5d04d2"
      },
      "execution_count": null,
      "outputs": [
        {
          "output_type": "stream",
          "name": "stdout",
          "text": [
            "Está fazendo sol?não\n",
            "Vamos assistir Netflix.\n"
          ]
        }
      ]
    },
    {
      "cell_type": "code",
      "source": [
        "tempo = input('Está fazendo sol?')\n",
        "\n",
        "if (tempo == 'sim'):\n",
        "  dinheiro = input('Você tem dinheiro? ')\n",
        "  if (dinheiro == 'sim'):\n",
        "    print('Vamos à praia.')\n",
        "  else:\n",
        "    print('Vá ligar o ventilador.')\n",
        "\n",
        "else:\n",
        "  print('Vamos assistir Netflix.')"
      ],
      "metadata": {
        "colab": {
          "base_uri": "https://localhost:8080/"
        },
        "id": "mb_a2yKJgVx2",
        "outputId": "58fdaf79-b554-4d59-cdfd-86d021e07dbd"
      },
      "execution_count": null,
      "outputs": [
        {
          "output_type": "stream",
          "name": "stdout",
          "text": [
            "Está fazendo sol?sim\n",
            "Você tem dinheiro? nao\n",
            "Vá ligar o ventilador.\n"
          ]
        }
      ]
    },
    {
      "cell_type": "code",
      "source": [
        "# Num determinado Estado, para transferências de veículos, o DETRAN cobra\n",
        "# uma taxa de 1% para carros fabricados antes de 1990 e uma taxa de 1.5%\n",
        "# para os fabricados de 1990 em diante, a taxa está incidindo sobre o valor do\n",
        "# carro. Faça uma algoritmo lê o ano e o preço do carro e a seguir calcula e\n",
        "# imprime o imposto a ser pago.\n",
        "\n",
        "# 1% quando for < 1990 = 0.01 * valor\n",
        "# 1.5% quando for >= 1990 = 0.015 * valor\n",
        "\n",
        "parâmetro = 1990\n",
        "\n",
        "taxax = 0.01\n",
        "\n",
        "taxay = 0.015\n",
        "\n",
        "ano = int (input('Qual é o ano do seu carro? '))\n",
        "\n",
        "valor = (input('Qual é o valor do seu carro? '))\n",
        "\n",
        "if (ano < 1990):\n",
        "  print('O valor do imposto é: R$', ano * taxax)\n",
        "\n",
        "elif (ano >= 1990):\n",
        "  print('O valor do imposto é: R$', ano * taxay)\n",
        "\n"
      ],
      "metadata": {
        "colab": {
          "base_uri": "https://localhost:8080/"
        },
        "id": "9CQGB6eWnBCO",
        "outputId": "77f6f89e-db5c-45ca-b108-994f2bdfdee9"
      },
      "execution_count": 20,
      "outputs": [
        {
          "output_type": "stream",
          "name": "stdout",
          "text": [
            "Qual é o ano do seu carro? 2014\n",
            "Qual é o valor do seu carro? 20000\n",
            "O valor do imposto é: R$ 30.209999999999997\n"
          ]
        }
      ]
    },
    {
      "cell_type": "code",
      "source": [
        "parâmetro = 1990\n",
        "\n",
        "taxax = 0.01\n",
        "\n",
        "taxay = 0.015\n",
        "\n",
        "ano = int (input('Qual é o ano do seu carro? '))\n",
        "\n",
        "valor = (input('Qual é o valor do seu carro? '))\n",
        "\n",
        "if (ano < 1990):\n",
        "  print('O valor do imposto é: R$', ano * taxax)\n",
        "\n",
        "elif (ano >= 1990):\n",
        "  print('O valor do imposto é: R$', ano * taxay)"
      ],
      "metadata": {
        "id": "TrQr4_-7rlt7",
        "colab": {
          "base_uri": "https://localhost:8080/"
        },
        "outputId": "bce193ab-64ac-4898-c971-e671ce7ff393"
      },
      "execution_count": 22,
      "outputs": [
        {
          "output_type": "stream",
          "name": "stdout",
          "text": [
            "Qual é o ano do seu carro? 1989\n",
            "Qual é o valor do seu carro? 20000\n",
            "O valor do imposto é: R$ 19.89\n"
          ]
        }
      ]
    },
    {
      "cell_type": "code",
      "source": [
        "# Uma empresa concederá um aumento de salário aos seus funcionários,\n",
        "# variável de acordo com o cargo, conforme a tabela abaixo. Faça um algoritmo\n",
        "# que leia o salário e o cargo de um funcionário e calcule o novo salário. Se o\n",
        "# cargo do funcionário não estiver na tabela, ele deverá, então, receber 40% de\n",
        "# aumento. Mostre o salário antigo, o novo salário e a diferença.\n",
        "\n",
        "# código: 101 > cargo: Gerente > percentual: 10%\n",
        "# código: 102 > cargo: Engenheiro > percentual: 20%\n",
        "# código: 103 > cargo: Técnico > percentual: 30%\n",
        "# código: 104 > cargo: Qualquer Outro > percentual: 40$\n",
        "\n",
        "# salário = Solicitar ao usário\n",
        "# cargo = Solicitar ao usário\n",
        "# aumento = (código10x * salário)"
      ],
      "metadata": {
        "id": "frufAoArJOD4"
      },
      "execution_count": 37,
      "outputs": []
    },
    {
      "cell_type": "code",
      "source": [
        "salário =  float(input('Qual é o seu salário atual: R$'))\n",
        "cargo = input('Qual é a seu cargo?: ')\n",
        "\n",
        "aumento1 = (salário* 0.1) + salário\n",
        "aumento2 = (salário * 0.2) + salário\n",
        "aumento3 = (salário * 0.3) + salário\n",
        "aumento = (salário * 0.4) + salário\n",
        "\n",
        "\n",
        "if ((cargo == '101') or (cargo == 'Gerente')):\n",
        "  print(aumento1)\n",
        "\n",
        "elif ((cargo == '102') or (cargo == 'Engenheiro')):\n",
        "  print(aumento2)\n",
        "\n",
        "elif ((cargo == '103') or (cargo == 'Técnico')):\n",
        "  print(aumento3)\n",
        "\n",
        "else:\n",
        "  print(aumento)\n",
        "\n",
        "print('Antigo salário: R$', salário , '\\n','Seu foi: R$', aumento - salário  ,'\\n','Novo salário: R$', aumento)"
      ],
      "metadata": {
        "colab": {
          "base_uri": "https://localhost:8080/"
        },
        "id": "bOsS1CzCVPRt",
        "outputId": "0fce6455-0d00-4c43-f9fc-b675f793fe9f"
      },
      "execution_count": 2,
      "outputs": [
        {
          "output_type": "stream",
          "name": "stdout",
          "text": [
            "Qual é o seu salário atual: R$1\n",
            "Qual é a seu cargo?: Técnico\n",
            "1.3\n",
            "Antigo salário: R$ 1.0 \n",
            " Seu foi: R$ 0.3999999999999999 \n",
            " Novo salário: R$ 1.4\n"
          ]
        }
      ]
    },
    {
      "cell_type": "code",
      "source": [
        "salário =  float(input('Qual é o seu salário atual: R$'))\n",
        "cargo = input('Qual é a seu cargo?: ')\n",
        "aumento = 0\n",
        "\n",
        "if ((cargo == '101') or (cargo == 'Gerente')):\n",
        "  aumento = (salário* 0.1) + salário\n",
        "\n",
        "elif ((cargo == '103') or (cargo == 'Engenheiro')):\n",
        "  aumento = (salário * 0.2) + salário\n",
        "\n",
        "elif ((cargo == '102') or (cargo == 'Tecnico') or (cargo == 'Técnico')):\n",
        "    aumento = (salário * 0.3) + salário\n",
        "\n",
        "else:\n",
        "  aumento = (salário * 0.4) + salário\n",
        "\n",
        "print('Antigo salário: R$', salário , '\\n','Seu aumento foi: R$', aumento - salário  ,'\\n','Novo salário: R$', aumento)"
      ],
      "metadata": {
        "colab": {
          "base_uri": "https://localhost:8080/"
        },
        "id": "vSkzrreuh6YX",
        "outputId": "e7873bfd-49a6-4c07-83d1-a3396a90e0fe"
      },
      "execution_count": 3,
      "outputs": [
        {
          "output_type": "stream",
          "name": "stdout",
          "text": [
            "Qual é o seu salário atual: R$1\n",
            "Qual é a seu cargo?: Técnico\n",
            "Antigo salário: R$ 1.0 \n",
            " Seu aumento foi: R$ 0.30000000000000004 \n",
            " Novo salário: R$ 1.3\n"
          ]
        }
      ]
    },
    {
      "cell_type": "code",
      "source": [
        "# Um banco concederá um crédito especial aos seus clientes, variável com o\n",
        "# saldo médio no último ano. Faça um algoritmo que leia o saldo médio de um\n",
        "# cliente e calcule o valor do crédito de acordo com a tabela abaixo. \n",
        "# Mostre uma mensagem informando o saldo médio e o valor do crédito.\n",
        "# de 0 a 200 - Nenhum crédito\n",
        "# de 201 a 400 - 20% do valor do saldo médio\n",
        "# de 401 a 600 - 30% do valor do saldo médio\n",
        "# acima de 601 - 40% do valor do saldo médio\n",
        "\n",
        "médiasaldo =  float(input('Qual é a média do seu saldo no último ano : R$'))\n",
        "nenhumcrédito = 0\n",
        "créditoespecial = (médiasaldo * 0.2)\n",
        "créditoespecial2 = (médiasaldo * 0.3)\n",
        "créditoespecial3 = (médiasaldo * 0.4)\n",
        "\n",
        "\n",
        "if (médiasaldo >= 0 and médiasaldo <= 200):\n",
        "  print('\\n','Você não tem crédito!')\n",
        "\n",
        "elif (médiasaldo >= 201 and médiasaldo <= 400):\n",
        "  print('Seu saldo médio é de: R$', médiasaldo, '\\n', 'E seu crédito especial é de: R$', créditoespecial)\n",
        "\n",
        "elif (médiasaldo >= 401 and médiasaldo <= 600):\n",
        "  print('Seu saldo médio é de: R$', médiasaldo, '\\n', 'E seu crédito especial é de: R$', créditoespecial2)\n",
        "\n",
        "elif (médiasaldo >= 601):\n",
        "  print('Seu saldo médio é de: R$', médiasaldo, '\\n', 'E seu crédito especial é de: R$', créditoespecial3)"
      ],
      "metadata": {
        "colab": {
          "base_uri": "https://localhost:8080/"
        },
        "id": "nWZmqwM6L_E5",
        "outputId": "0a7126a7-d329-4285-e7b7-94f1ab16f21a"
      },
      "execution_count": 29,
      "outputs": [
        {
          "output_type": "stream",
          "name": "stdout",
          "text": [
            "Qual é a média do seu saldo no último ano : R$5000\n",
            "Seu saldo médio é de: R$ 5000.0 \n",
            " E seu crédito especial é de: R$ 2000.0\n"
          ]
        }
      ]
    },
    {
      "cell_type": "code",
      "source": [
        "# Elabore um algoritmo que leia 5 valores inteiros em cinco variáveis diferentes e apresente na tela o maior e o menor deles.\n",
        "\n",
        "\n",
        "valor1 = int (input('Informe o primeiro valor: '))\n",
        "valor2 = int (input('Informe o segundo valor: '))\n",
        "valor3 = int (input('Informe o terceiro valor: '))\n",
        "valor4 = int (input('Informe o quarto valor: '))\n",
        "valor5 = int (input('Informe o quinto valor: '))\n",
        "\n",
        "variáveis = (valor1, valor2, valor3, valor4, valor5)\n",
        "\n",
        "print(variáveis)\n",
        "\n",
        "print('\\n','O valor máximo entre eles é: ', max(variáveis))\n",
        "print('\\n','O valor mínimo entre eles é: ', min(variáveis))\n"
      ],
      "metadata": {
        "colab": {
          "base_uri": "https://localhost:8080/"
        },
        "id": "foyHup0hNAJs",
        "outputId": "764e64a5-1f82-47cb-f93d-a7e8d2b8f296"
      },
      "execution_count": 44,
      "outputs": [
        {
          "output_type": "stream",
          "name": "stdout",
          "text": [
            "Informe o primeiro valor: 1\n",
            "Informe o segundo valor: 2\n",
            "Informe o terceiro valor: 3\n",
            "Informe o quarto valor: 4\n",
            "Informe o quinto valor: 5\n",
            "(1, 2, 3, 4, 5)\n",
            "\n",
            " O valor máximo entre eles é:  5\n",
            "\n",
            " O valor mínimo entre eles é:  1\n"
          ]
        }
      ]
    },
    {
      "cell_type": "code",
      "source": [],
      "metadata": {
        "id": "reK6SIrXWZ64"
      },
      "execution_count": null,
      "outputs": []
    }
  ]
}
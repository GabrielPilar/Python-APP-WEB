{
  "nbformat": 4,
  "nbformat_minor": 0,
  "metadata": {
    "colab": {
      "provenance": []
    },
    "kernelspec": {
      "name": "python3",
      "display_name": "Python 3"
    },
    "language_info": {
      "name": "python"
    }
  },
  "cells": [
    {
      "cell_type": "code",
      "execution_count": null,
      "metadata": {
        "id": "aTz_yDaz1UF0",
        "colab": {
          "base_uri": "https://localhost:8080/"
        },
        "outputId": "2485985f-e1c2-4d82-dd2d-63b1aa408614"
      },
      "outputs": [
        {
          "output_type": "execute_result",
          "data": {
            "text/plain": [
              "1987"
            ]
          },
          "metadata": {},
          "execution_count": 1
        }
      ],
      "source": [
        "class Pessoa():\n",
        "  def __init__(self, name, age): #variáveis da função\n",
        "    self.nome=name #atributo da classe\n",
        "    self.idade=age #atributo da classe\n",
        "  def nascimento(self, idade): #variável da função\n",
        "    return(2022-idade) #retorna o ano que a pessoa nasceu\n",
        "\n",
        "pessoa1 = Pessoa(\"Maria\", 35) #criando um objeto a partir da classe Pessoa()\n",
        "pessoa1.nome #chamando um atributo do objeto\n",
        "pessoa1.idade #chamando um atributo do objeto\n",
        "pessoa1.nascimento(35) #chamando um método do objeto"
      ]
    },
    {
      "cell_type": "code",
      "source": [
        "listaDePessoas=[] #Criando Lista vazia\n",
        "for i in range(5): #Frequência de repetição de loop for, segundo a questão\n",
        "  nome = str(input('Nome: ')) #Entrada dos dados\n",
        "  idade = int(input('Idade: '))\n",
        "  pessoa = Pessoa(nome, idade) #Criando Objeto pessoa com a classe Pessoa()\n",
        "  listaDePessoas.append(pessoa) #cada elemento da lista é um objeto com métodos() e atributos\n"
      ],
      "metadata": {
        "colab": {
          "base_uri": "https://localhost:8080/"
        },
        "id": "OJG85kZ-etxc",
        "outputId": "2ca4fb5d-67ce-4063-beb1-720964d5368e"
      },
      "execution_count": null,
      "outputs": [
        {
          "name": "stdout",
          "output_type": "stream",
          "text": [
            "Nome: Gabriel\n",
            "Idade: 26\n",
            "Nome: Maria\n",
            "Idade: 22\n",
            "Nome: Pedro\n",
            "Idade: 18\n",
            "Nome: Carla\n",
            "Idade: 30\n",
            "Nome: Miguel\n",
            "Idade: 22\n"
          ]
        }
      ]
    },
    {
      "cell_type": "code",
      "source": [
        "for objeto in range(len(listaDePessoas)): #Acessando cada objeto da lista de objetos pessoa\n",
        "\n",
        "  print('Nome: %s, idade: %d' %(listaDePessoas[objeto].nome, listaDePessoas[objeto].idade))"
      ],
      "metadata": {
        "colab": {
          "base_uri": "https://localhost:8080/"
        },
        "id": "UeP-XmCWg5rw",
        "outputId": "086d2850-15c6-47d3-89bc-39a4881e7b5b"
      },
      "execution_count": null,
      "outputs": [
        {
          "output_type": "stream",
          "name": "stdout",
          "text": [
            "Nome: Gabriel, idade: 26\n",
            "Nome: Maria, idade: 22\n",
            "Nome: Pedro, idade: 18\n",
            "Nome: Carla, idade: 30\n",
            "Nome: Miguel, idade: 22\n"
          ]
        }
      ]
    },
    {
      "cell_type": "code",
      "source": [
        "class Pessoa():\n",
        "\n",
        "  def __init__(self, nome, idade):\n",
        "    self.nome = nome\n",
        "    self.idade = idade\n",
        "    print('Seja bem-vindo(a) ao Senac,', nome, '!')\n",
        "\n",
        "class PessoaFisica(Pessoa): #Taxa de x0,015 (IR = salario*taxa)\n",
        "\n",
        "  def __init__(self, nome, idade, cpf):\n",
        "    super().__init__(nome, idade)\n",
        "    self.cpf = cpf\n",
        "    print(\"Pessoa física\")\n",
        "\n",
        "  def imposto(self):\n",
        "    taxa = (salario * 0.015)\n",
        "    print('A taxa total do imposto sobre o seu salário é: ', taxa)\n",
        "\n",
        "class PessoaJuridica(Pessoa): #Taxa de x0,10 (IR = salario*taxa)\n",
        "\n",
        "  def __init__(self,  nome, idade, cnpj, tipo):\n",
        "    super().__init__(nome, idade)\n",
        "    self.cpnj = cnpj\n",
        "    self.tipo = tipo\n",
        "    print(\"Pessoa jurídica \")\n",
        "\n",
        "  def imposto(self):\n",
        "    x = (salario*0.015)\n",
        "    print('A taxa total do importo sobre o seu salário é: ', )\n",
        "\n",
        "\n",
        "nome = str(input('Qual é o seu nome? '))\n",
        "idade = int(input('Qual é a sua idade? '))\n",
        "empresa = input('Se for Pessoa Física, digite PF. Se for Pessoa Jurídica, digite PJ.').lower()\n",
        "\n",
        "if (empresa == 'pf'):\n",
        "  cpf = int(input('Digite o seu CPF sem pontuação! '))\n",
        "  pessoa = PessoaFisica(nome, idade, cpf)\n",
        "  quantidadesalarios = int(input('Quantos salários você tem?: '))\n",
        "  for x in range(quantidadesalarios):\n",
        "    salario = float (input('Digite o seu salário: '))\n",
        "    pessoa.imposto()\n",
        "\n",
        "elif (empresa == 'pj'):\n",
        "  cnpj = int(input('Digite o seu CNPJ: '))\n",
        "  tipo = 'pj'\n",
        "  pessoa = PessoaJuridica(nome, idade, cpnj, tipo)\n",
        "  quantidadesalarios = int(input('Quantos salários você tem?: '))\n",
        "  for x in range(quantidadesalarios):\n",
        "    salario = float (input('Digite sua receita: '))\n",
        "    pessoa.imposto()    \n",
        "\n",
        "else:\n",
        "  print('Escolha uma das opções!')"
      ],
      "metadata": {
        "id": "JNNeoUKUhnDJ",
        "colab": {
          "base_uri": "https://localhost:8080/"
        },
        "outputId": "359f82ce-9d66-42a0-8940-4ecb539e5a95"
      },
      "execution_count": null,
      "outputs": [
        {
          "output_type": "stream",
          "name": "stdout",
          "text": [
            "Qual é o seu nome? Gabriel\n",
            "Qual é a sua idade? 22\n",
            "Se for Pessoa Física, digite PF. Se for Pessoa Jurídica, digite PJ.pf\n",
            "Digite o seu CPF sem pontuação! 0\n",
            "Seja bem-vindo(a) ao Senac, Gabriel !\n",
            "Pessoa física\n",
            "Quantos salários você tem?: 2\n",
            "Digite o seu salário: 1000\n",
            "A taxa total do imposto sobre o seu salário é:  15.0\n",
            "Digite o seu salário: 1000\n",
            "A taxa total do imposto sobre o seu salário é:  15.0\n"
          ]
        }
      ]
    }
  ]
}
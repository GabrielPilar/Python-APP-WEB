{
  "nbformat": 4,
  "nbformat_minor": 0,
  "metadata": {
    "colab": {
      "provenance": []
    },
    "kernelspec": {
      "name": "python3",
      "display_name": "Python 3"
    },
    "language_info": {
      "name": "python"
    }
  },
  "cells": [
    {
      "cell_type": "markdown",
      "source": [
        "**Exercícios:**"
      ],
      "metadata": {
        "id": "QqTD3KPTxZK7"
      }
    },
    {
      "cell_type": "markdown",
      "source": [
        "*1. Convite para festa pet.*"
      ],
      "metadata": {
        "id": "JF2uSbwfxo6Z"
      }
    },
    {
      "cell_type": "code",
      "source": [
        "for nome in ['Reginaldo', 'Gisele Pintcher', 'Scoob', 'Marleene', 'Zezinho', 'Cibele', 'Suely']:\n",
        "\n",
        "  convite= ('Oi,' + nome + '! Por favor, venha para o sábado pet em minha casa!')\n",
        "  print(convite)"
      ],
      "metadata": {
        "colab": {
          "base_uri": "https://localhost:8080/"
        },
        "id": "f7pMirl0xZpi",
        "outputId": "7da2c41c-4b10-415c-e50a-50ea64dc62ca"
      },
      "execution_count": null,
      "outputs": [
        {
          "output_type": "stream",
          "name": "stdout",
          "text": [
            "Oi,Reginaldo! Por favor, venha para o sábado pet em minha casa!\n",
            "Oi,Gisele Pintcher! Por favor, venha para o sábado pet em minha casa!\n",
            "Oi,Scoob! Por favor, venha para o sábado pet em minha casa!\n",
            "Oi,Marleene! Por favor, venha para o sábado pet em minha casa!\n",
            "Oi,Zezinho! Por favor, venha para o sábado pet em minha casa!\n",
            "Oi,Cibele! Por favor, venha para o sábado pet em minha casa!\n",
            "Oi,Suely! Por favor, venha para o sábado pet em minha casa!\n"
          ]
        }
      ]
    },
    {
      "cell_type": "markdown",
      "source": [
        "2. *Crie uma lista de 5 frutas e verifique se a fruta 'Morango'\n",
        "faz parte da lista.*"
      ],
      "metadata": {
        "id": "snrKCxpMxv7A"
      }
    },
    {
      "cell_type": "code",
      "source": [
        "lista = ['Morango', 'Banana', 'Uva', 'Kiwi', 'Graviola']\n",
        "'Morango' in lista\n"
      ],
      "metadata": {
        "colab": {
          "base_uri": "https://localhost:8080/"
        },
        "id": "by2AVSbYxzsh",
        "outputId": "6e17e2d5-90e7-484a-c924-b9a1f1750ae9"
      },
      "execution_count": null,
      "outputs": [
        {
          "output_type": "execute_result",
          "data": {
            "text/plain": [
              "True"
            ]
          },
          "metadata": {},
          "execution_count": 45
        }
      ]
    },
    {
      "cell_type": "markdown",
      "source": [
        "3. *Crie uma sequência de números pares entre 100 e 150 e\n",
        "imprima na tela.*"
      ],
      "metadata": {
        "id": "Kv3hDxJi57ks"
      }
    },
    {
      "cell_type": "code",
      "source": [
        "for numero in range (100,150):\n",
        "  if numero % 2 == 0:\n",
        "    print('Os números pares são: ', numero)"
      ],
      "metadata": {
        "colab": {
          "base_uri": "https://localhost:8080/"
        },
        "id": "CGb1CWzP3Atr",
        "outputId": "5ab74b7b-993e-4643-c943-7cad89a4a68a"
      },
      "execution_count": null,
      "outputs": [
        {
          "output_type": "stream",
          "name": "stdout",
          "text": [
            "Os números pares são:  100\n",
            "Os números pares são:  102\n",
            "Os números pares são:  104\n",
            "Os números pares são:  106\n",
            "Os números pares são:  108\n",
            "Os números pares são:  110\n",
            "Os números pares são:  112\n",
            "Os números pares são:  114\n",
            "Os números pares são:  116\n",
            "Os números pares são:  118\n",
            "Os números pares são:  120\n",
            "Os números pares são:  122\n",
            "Os números pares são:  124\n",
            "Os números pares são:  126\n",
            "Os números pares são:  128\n",
            "Os números pares são:  130\n",
            "Os números pares são:  132\n",
            "Os números pares são:  134\n",
            "Os números pares são:  136\n",
            "Os números pares são:  138\n",
            "Os números pares são:  140\n",
            "Os números pares são:  142\n",
            "Os números pares são:  144\n",
            "Os números pares são:  146\n",
            "Os números pares são:  148\n"
          ]
        }
      ]
    },
    {
      "cell_type": "markdown",
      "source": [
        "4. *Crie uma variável chamada temperatura e atribua o\n",
        "valor 40. Supondo que a temperatura está diminuindo de\n",
        "grau em grau, enquanto temperatura for maior que 25,\n",
        "imprima as temperaturas na tela.*"
      ],
      "metadata": {
        "id": "GbUgyua26RyK"
      }
    },
    {
      "cell_type": "code",
      "source": [
        "temperatura = 40\n",
        "while temperatura > 25:\n",
        "  print(temperatura,'°c')\n",
        "  temperatura = temperatura - 1"
      ],
      "metadata": {
        "colab": {
          "base_uri": "https://localhost:8080/"
        },
        "id": "1NV5nUIj6U_S",
        "outputId": "18db280f-0e7c-4f46-e59a-2476a07ef6ab"
      },
      "execution_count": null,
      "outputs": [
        {
          "output_type": "stream",
          "name": "stdout",
          "text": [
            "40 °c\n",
            "39 °c\n",
            "38 °c\n",
            "37 °c\n",
            "36 °c\n",
            "35 °c\n",
            "34 °c\n",
            "33 °c\n",
            "32 °c\n",
            "31 °c\n",
            "30 °c\n",
            "29 °c\n",
            "28 °c\n",
            "27 °c\n",
            "26 °c\n"
          ]
        }
      ]
    },
    {
      "cell_type": "markdown",
      "source": [
        "5. *Crie uma variável chamada contador = 0. Enquanto\n",
        "counter for menor que 100, imprima os valores na tela.*"
      ],
      "metadata": {
        "id": "Bgdn42Kw6yIa"
      }
    },
    {
      "cell_type": "code",
      "source": [
        "contador = 0\n",
        "while contador < 100:\n",
        "  print(contador)\n",
        "  contador = contador + 1"
      ],
      "metadata": {
        "colab": {
          "base_uri": "https://localhost:8080/"
        },
        "id": "L8z5DK8N6wjB",
        "outputId": "53a49645-0910-4efd-c3fb-ec30d6477583"
      },
      "execution_count": null,
      "outputs": [
        {
          "output_type": "stream",
          "name": "stdout",
          "text": [
            "0\n",
            "1\n",
            "2\n",
            "3\n",
            "4\n",
            "5\n",
            "6\n",
            "7\n",
            "8\n",
            "9\n",
            "10\n",
            "11\n",
            "12\n",
            "13\n",
            "14\n",
            "15\n",
            "16\n",
            "17\n",
            "18\n",
            "19\n",
            "20\n",
            "21\n",
            "22\n",
            "23\n",
            "24\n",
            "25\n",
            "26\n",
            "27\n",
            "28\n",
            "29\n",
            "30\n",
            "31\n",
            "32\n",
            "33\n",
            "34\n",
            "35\n",
            "36\n",
            "37\n",
            "38\n",
            "39\n",
            "40\n",
            "41\n",
            "42\n",
            "43\n",
            "44\n",
            "45\n",
            "46\n",
            "47\n",
            "48\n",
            "49\n",
            "50\n",
            "51\n",
            "52\n",
            "53\n",
            "54\n",
            "55\n",
            "56\n",
            "57\n",
            "58\n",
            "59\n",
            "60\n",
            "61\n",
            "62\n",
            "63\n",
            "64\n",
            "65\n",
            "66\n",
            "67\n",
            "68\n",
            "69\n",
            "70\n",
            "71\n",
            "72\n",
            "73\n",
            "74\n",
            "75\n",
            "76\n",
            "77\n",
            "78\n",
            "79\n",
            "80\n",
            "81\n",
            "82\n",
            "83\n",
            "84\n",
            "85\n",
            "86\n",
            "87\n",
            "88\n",
            "89\n",
            "90\n",
            "91\n",
            "92\n",
            "93\n",
            "94\n",
            "95\n",
            "96\n",
            "97\n",
            "98\n",
            "99\n"
          ]
        }
      ]
    },
    {
      "cell_type": "markdown",
      "source": [
        "6. *Crie uma lista vazia e uma variável com valor 4.\n",
        "Enquanto o valor da variável for menor ou igual a 20,\n",
        "adicione à lista, apenas os valores pares e imprima a lista.*"
      ],
      "metadata": {
        "id": "z12r9mif7c7H"
      }
    },
    {
      "cell_type": "code",
      "source": [
        "lista = []\n",
        "variavel = 4\n",
        "\n",
        "for x in range(variavel,21):\n",
        "  if x % 2 == 0:\n",
        "    lista.append(x)\n",
        "\n",
        "print(lista)"
      ],
      "metadata": {
        "colab": {
          "base_uri": "https://localhost:8080/"
        },
        "id": "BEM3TyyQ7hwg",
        "outputId": "0bfbe49b-a2e8-4130-d83d-10d799b7c2a5"
      },
      "execution_count": null,
      "outputs": [
        {
          "output_type": "stream",
          "name": "stdout",
          "text": [
            "[4, 6, 8, 10, 12, 14, 16, 18, 20]\n"
          ]
        }
      ]
    },
    {
      "cell_type": "markdown",
      "source": [
        "7. *Faça a correção dos erros no código abaixo e execute o\n",
        "programa.*\n",
        "\n",
        "temperatura = float(input(Qual a temperatura? ))\n",
        "\n",
        "if temperatura > 30\n",
        "\n",
        "print('Vista roupas leves.')\n",
        "\n",
        "else\n",
        "\n",
        "print('Busque seus casacos.')"
      ],
      "metadata": {
        "id": "azm0ec2M7pmt"
      }
    },
    {
      "cell_type": "code",
      "source": [
        "temperatura = float(input('Qual a temperatura? '))\n",
        "\n",
        "if temperatura > 30:\n",
        "\n",
        "  print('Vista roupas leves.')\n",
        "\n",
        "else:\n",
        "\n",
        "  print('Busque seus casacos.')"
      ],
      "metadata": {
        "colab": {
          "base_uri": "https://localhost:8080/"
        },
        "id": "lbOWLXX87z9L",
        "outputId": "5ee1e290-5e9b-4499-c6c3-f594f881a6f8"
      },
      "execution_count": null,
      "outputs": [
        {
          "output_type": "stream",
          "name": "stdout",
          "text": [
            "Qual a temperatura? 30\n",
            "Busque seus casacos.\n"
          ]
        }
      ]
    },
    {
      "cell_type": "markdown",
      "source": [
        "8.9. *Faça um programa que conte quantas vezes a letra \"s\"\n",
        "aparece na frase abaixo.\n",
        "“'Educação não transforma o mundo. Educação muda\n",
        "pessoas. Pessoas transformam o mundo.\" (Paulo Freire)*"
      ],
      "metadata": {
        "id": "0DLBitqP8AMB"
      }
    },
    {
      "cell_type": "code",
      "source": [
        "frase = 'Educação não transforma o mundo. Educação muda pessoas. Pessoas transformam o mundo. (Paulo Freire)'\n",
        "print(frase.count('s'))"
      ],
      "metadata": {
        "colab": {
          "base_uri": "https://localhost:8080/"
        },
        "id": "fg5Nnf0c79OE",
        "outputId": "8029fc1a-8478-464e-ac1a-39689709555e"
      },
      "execution_count": null,
      "outputs": [
        {
          "output_type": "stream",
          "name": "stdout",
          "text": [
            "8\n"
          ]
        }
      ]
    },
    {
      "cell_type": "markdown",
      "source": [
        "10. *Considere a lista abaixo e retorne apenas os elementos\n",
        "cujo índice for maior que 5.*"
      ],
      "metadata": {
        "id": "kET_d7uw8Pk5"
      }
    },
    {
      "cell_type": "code",
      "source": [
        "lista = ['a', 'b', 'c', 'd', 'e', 'f', 'g', 'h']\n",
        "lista[6:]"
      ],
      "metadata": {
        "colab": {
          "base_uri": "https://localhost:8080/"
        },
        "id": "Rr2dceMx8q6S",
        "outputId": "465fb39d-d506-41f8-842c-0c0a3b66b4b7"
      },
      "execution_count": null,
      "outputs": [
        {
          "output_type": "execute_result",
          "data": {
            "text/plain": [
              "['g', 'h']"
            ]
          },
          "metadata": {},
          "execution_count": 56
        }
      ]
    },
    {
      "cell_type": "markdown",
      "source": [
        "11. *Crie um terceiro dicionário com as chaves do dicionário\n",
        "1 e os valores do dicionário 2 abaixo.*"
      ],
      "metadata": {
        "id": "ylKRETza8sAW"
      }
    },
    {
      "cell_type": "code",
      "source": [
        "dict1 = {'a':1,'b':2}\n",
        "dict2 = {'c':4,'d':5}\n",
        "dict3 = {}\n",
        "\n",
        "dict3 ['a'] = 4\n",
        "dict3 ['b'] = 5\n",
        "\n",
        "print(dict3)"
      ],
      "metadata": {
        "colab": {
          "base_uri": "https://localhost:8080/"
        },
        "id": "h0QpM-0h8eAR",
        "outputId": "a96d4de1-3227-43a4-8536-efae21a4c03b"
      },
      "execution_count": null,
      "outputs": [
        {
          "output_type": "stream",
          "name": "stdout",
          "text": [
            "{'a': 4, 'b': 5}\n"
          ]
        }
      ]
    },
    {
      "cell_type": "markdown",
      "source": [
        "12."
      ],
      "metadata": {
        "id": "MiPFlUhR80NW"
      }
    },
    {
      "cell_type": "code",
      "source": [
        "for um_valor in range(10):\n",
        "  print(um_valor)"
      ],
      "metadata": {
        "colab": {
          "base_uri": "https://localhost:8080/"
        },
        "id": "fSGj8ozt8159",
        "outputId": "970cae99-1a39-4e97-8780-66d704a137a0"
      },
      "execution_count": null,
      "outputs": [
        {
          "output_type": "stream",
          "name": "stdout",
          "text": [
            "0\n",
            "1\n",
            "2\n",
            "3\n",
            "4\n",
            "5\n",
            "6\n",
            "7\n",
            "8\n",
            "9\n"
          ]
        }
      ]
    },
    {
      "cell_type": "markdown",
      "source": [
        "13."
      ],
      "metadata": {
        "id": "CMCD79xI8-lf"
      }
    },
    {
      "cell_type": "code",
      "source": [
        "for um_char in \"Venha para a festa\":\n",
        "  print(um_char)"
      ],
      "metadata": {
        "colab": {
          "base_uri": "https://localhost:8080/"
        },
        "id": "yqF3Deot829b",
        "outputId": "d858fd76-3c8b-4d1f-cf7b-dcf0bf22dfd9"
      },
      "execution_count": null,
      "outputs": [
        {
          "output_type": "stream",
          "name": "stdout",
          "text": [
            "V\n",
            "e\n",
            "n\n",
            "h\n",
            "a\n",
            " \n",
            "p\n",
            "a\n",
            "r\n",
            "a\n",
            " \n",
            "a\n",
            " \n",
            "f\n",
            "e\n",
            "s\n",
            "t\n",
            "a\n"
          ]
        }
      ]
    },
    {
      "cell_type": "code",
      "source": [],
      "metadata": {
        "id": "28tOJSis9Bjr"
      },
      "execution_count": null,
      "outputs": []
    }
  ]
}
{
  "nbformat": 4,
  "nbformat_minor": 0,
  "metadata": {
    "colab": {
      "provenance": [],
      "collapsed_sections": []
    },
    "kernelspec": {
      "name": "python3",
      "display_name": "Python 3"
    },
    "language_info": {
      "name": "python"
    }
  },
  "cells": [
    {
      "cell_type": "code",
      "execution_count": 81,
      "metadata": {
        "id": "CTnEt8Upne0x"
      },
      "outputs": [],
      "source": [
        "# Digite os comandos na sequência:\n",
        "palavras =['codigo','linguagem', 'web']\n",
        "numeros = [18,123]\n",
        "vazia=[]\n",
        "lista_mista=['oi', 2.0, 5*2,[10,20]]"
      ]
    },
    {
      "cell_type": "code",
      "source": [
        "# Digite os comandos na sequência:\n",
        "print(numeros)\n",
        "print(lista_mista)\n",
        "nova_lista=[numeros,palavras]\n",
        "print(nova_lista)"
      ],
      "metadata": {
        "colab": {
          "base_uri": "https://localhost:8080/"
        },
        "id": "AUAXs4fRli5H",
        "outputId": "6be6d31a-89b9-48c8-f7d6-00a94cc3c296"
      },
      "execution_count": 82,
      "outputs": [
        {
          "output_type": "stream",
          "name": "stdout",
          "text": [
            "[18, 123]\n",
            "['oi', 2.0, 10, [10, 20]]\n",
            "[[18, 123], ['codigo', 'linguagem', 'web']]\n"
          ]
        }
      ]
    },
    {
      "cell_type": "code",
      "source": [
        "# Digite os comandos na sequência:\n",
        "uma_lista=['oi', 2.0, 5, [10,20]]\n",
        "print(len(uma_lista))\n",
        "print(len(['spam!', 1, ['bolo','bolacha'], [1,2,3]]))"
      ],
      "metadata": {
        "colab": {
          "base_uri": "https://localhost:8080/"
        },
        "id": "gjU7rmTvlvBM",
        "outputId": "052f9297-8619-4584-f1c8-670e75c0b72c"
      },
      "execution_count": 83,
      "outputs": [
        {
          "output_type": "stream",
          "name": "stdout",
          "text": [
            "4\n",
            "4\n"
          ]
        }
      ]
    },
    {
      "cell_type": "code",
      "source": [
        "# O que é impresso pelo trecho de código a seguir?\n",
        "numeros=[18,424,86,13,66,8338,74]\n",
        "print(numeros[2])\n",
        "print(numeros[9-8])\n",
        "print(numeros[-2])\n",
        "print(numeros[len(numeros)-1])"
      ],
      "metadata": {
        "colab": {
          "base_uri": "https://localhost:8080/"
        },
        "id": "PRKerJmUmffJ",
        "outputId": "a3d7894c-386c-4283-ed15-9de80cf8596b"
      },
      "execution_count": 84,
      "outputs": [
        {
          "output_type": "stream",
          "name": "stdout",
          "text": [
            "86\n",
            "424\n",
            "8338\n",
            "74\n"
          ]
        }
      ]
    },
    {
      "cell_type": "code",
      "source": [
        "# O que é impresso pelo trecho de código a seguir?\n",
        "uma_lista = [3, 5, \"Cibele\", 3.14, False]\n",
        "print(len(uma_lista))"
      ],
      "metadata": {
        "colab": {
          "base_uri": "https://localhost:8080/"
        },
        "id": "tyE6xgOJm4xm",
        "outputId": "17adbf11-6f61-46ee-86c8-109ec7db7c5c"
      },
      "execution_count": 85,
      "outputs": [
        {
          "output_type": "stream",
          "name": "stdout",
          "text": [
            "5\n"
          ]
        }
      ]
    },
    {
      "cell_type": "code",
      "source": [
        "# O que é impresso pelo trecho de código a seguir?\n",
        "\n",
        "uma_lista=[3, 5, 'cibele', [88,99,'Suely'], [], 3.14, False]\n",
        "print(len(uma_lista))\n",
        "print(uma_lista[5])\n",
        "print(uma_lista[2].upper())\n",
        "print(uma_lista[2][0])\n",
        "print(3.14 in uma_lista)\n",
        "print(88 in uma_lista)"
      ],
      "metadata": {
        "colab": {
          "base_uri": "https://localhost:8080/"
        },
        "id": "Xjn-qREtnG1r",
        "outputId": "26728885-d681-4507-c509-285299959de4"
      },
      "execution_count": 86,
      "outputs": [
        {
          "output_type": "stream",
          "name": "stdout",
          "text": [
            "7\n",
            "3.14\n",
            "CIBELE\n",
            "c\n",
            "True\n",
            "False\n"
          ]
        }
      ]
    },
    {
      "cell_type": "code",
      "source": [
        "# O que é impresso pelo trecho de código a seguir?\n",
        "\n",
        "uma_lista=[1,2,5]\n",
        "outra_lista=[2,4,6]\n",
        "print(uma_lista+outra_lista)\n",
        "print(uma_lista*3)"
      ],
      "metadata": {
        "colab": {
          "base_uri": "https://localhost:8080/"
        },
        "id": "5JfsHEZDo5V_",
        "outputId": "893a8ca0-86e8-448b-e6b0-b865963ec0e1"
      },
      "execution_count": 87,
      "outputs": [
        {
          "output_type": "stream",
          "name": "stdout",
          "text": [
            "[1, 2, 5, 2, 4, 6]\n",
            "[1, 2, 5, 1, 2, 5, 1, 2, 5]\n"
          ]
        }
      ]
    },
    {
      "cell_type": "code",
      "source": [
        "# O que é impresso pelo trecho de código a seguir?\n",
        "uma_lista=[3, 5, 'cibele', [88,99,'Suely'], [], 3.14, False]\n",
        "print(uma_lista[4:])"
      ],
      "metadata": {
        "colab": {
          "base_uri": "https://localhost:8080/"
        },
        "id": "itouffVJphYc",
        "outputId": "871126ec-40ad-4765-a51e-19574fb3e3c0"
      },
      "execution_count": 88,
      "outputs": [
        {
          "output_type": "stream",
          "name": "stdout",
          "text": [
            "[[], 3.14, False]\n"
          ]
        }
      ]
    },
    {
      "cell_type": "code",
      "source": [
        "# O que é impresso pelo trecho de código a seguir?\n",
        "\n",
        "uma_lista=['a','b','c','d','e','f']\n",
        "uma_lista[1:3]=['x','y']\n",
        "print(uma_lista)"
      ],
      "metadata": {
        "colab": {
          "base_uri": "https://localhost:8080/"
        },
        "id": "avHA1j-zpyzc",
        "outputId": "51958828-0e44-4888-c45f-5b9320106448"
      },
      "execution_count": 89,
      "outputs": [
        {
          "output_type": "stream",
          "name": "stdout",
          "text": [
            "['a', 'x', 'y', 'd', 'e', 'f']\n"
          ]
        }
      ]
    },
    {
      "cell_type": "code",
      "source": [
        "# O que é impresso pelo trecho de código a seguir?\n",
        "uma_lista = ['a', 'b', 'c', 'd', 'e', 'f']\n",
        "uma_lista[1:3] = []\n",
        "print(uma_lista)"
      ],
      "metadata": {
        "colab": {
          "base_uri": "https://localhost:8080/"
        },
        "id": "T5VHAFXKqcMI",
        "outputId": "b0799500-2d0f-4a5c-d473-a24483438440"
      },
      "execution_count": 90,
      "outputs": [
        {
          "output_type": "stream",
          "name": "stdout",
          "text": [
            "['a', 'd', 'e', 'f']\n"
          ]
        }
      ]
    },
    {
      "cell_type": "code",
      "source": [
        "# O que é impresso pelo trecho de código a seguir?\n",
        "uma_lista = ['a', 'd', 'f']\n",
        "uma_lista[1:1] = ['b', 'c']\n",
        "print(uma_lista)"
      ],
      "metadata": {
        "colab": {
          "base_uri": "https://localhost:8080/"
        },
        "id": "cvy2Ol9nq8PJ",
        "outputId": "2a3ffd70-d685-40ea-b7dd-aff5ff900542"
      },
      "execution_count": 91,
      "outputs": [
        {
          "output_type": "stream",
          "name": "stdout",
          "text": [
            "['a', 'b', 'c', 'd', 'f']\n"
          ]
        }
      ]
    },
    {
      "cell_type": "code",
      "source": [
        "uma_lista[4:4] = ['e']\n",
        "print(uma_lista)"
      ],
      "metadata": {
        "colab": {
          "base_uri": "https://localhost:8080/"
        },
        "id": "1zMgJR1TrNLt",
        "outputId": "cddb3295-4f6f-4e37-f7b4-fb188df23948"
      },
      "execution_count": 92,
      "outputs": [
        {
          "output_type": "stream",
          "name": "stdout",
          "text": [
            "['a', 'b', 'c', 'd', 'e', 'f']\n"
          ]
        }
      ]
    },
    {
      "cell_type": "code",
      "source": [
        "# O que é impresso pelo trecho de código a seguir?\n",
        "\n",
        "lista_a = [4, 1, 8, 6, 3]\n",
        "lista_b = lista_a\n",
        "lista_b[3] = 22\n",
        "print(lista_a)"
      ],
      "metadata": {
        "colab": {
          "base_uri": "https://localhost:8080/"
        },
        "id": "gGZsQDUWrWbr",
        "outputId": "461207c4-aa1a-49a0-9a09-0a73551b2936"
      },
      "execution_count": 93,
      "outputs": [
        {
          "output_type": "stream",
          "name": "stdout",
          "text": [
            "[4, 1, 8, 22, 3]\n"
          ]
        }
      ]
    },
    {
      "cell_type": "code",
      "source": [
        "# O que é impresso pelo trecho de código a seguir?\n",
        "\n",
        "lista_original = [5, 6, 7, 8]\n",
        "print(lista_original*3)\n",
        "lista_nova = [lista_original] * 3\n",
        "print(lista_nova)"
      ],
      "metadata": {
        "colab": {
          "base_uri": "https://localhost:8080/"
        },
        "id": "uuvvP2lJrfKf",
        "outputId": "4af605eb-daa1-43ec-eefa-846446141c4f"
      },
      "execution_count": 94,
      "outputs": [
        {
          "output_type": "stream",
          "name": "stdout",
          "text": [
            "[5, 6, 7, 8, 5, 6, 7, 8, 5, 6, 7, 8]\n",
            "[[5, 6, 7, 8], [5, 6, 7, 8], [5, 6, 7, 8]]\n"
          ]
        }
      ]
    },
    {
      "cell_type": "code",
      "source": [
        "# O que é impresso pelo trecho de código a seguir?\n",
        "\n",
        "lista_original = [5, 6, 7, 8]\n",
        "lista_nova = [lista_original] * 3\n",
        "print(lista_nova)\n",
        "lista_original[1] = 22\n",
        "print(lista_nova)\n"
      ],
      "metadata": {
        "colab": {
          "base_uri": "https://localhost:8080/"
        },
        "id": "pPKS7i9SsLwx",
        "outputId": "bb821ce7-4ae4-4d38-c737-01bce5b9d9f5"
      },
      "execution_count": 95,
      "outputs": [
        {
          "output_type": "stream",
          "name": "stdout",
          "text": [
            "[[5, 6, 7, 8], [5, 6, 7, 8], [5, 6, 7, 8]]\n",
            "[[5, 22, 7, 8], [5, 22, 7, 8], [5, 22, 7, 8]]\n"
          ]
        }
      ]
    },
    {
      "cell_type": "code",
      "source": [
        "# O que é impresso pelo trecho de código a seguir?\n",
        "\n",
        "lista_a = [4, 1, 8, 6, 3]\n",
        "lista_b = lista_a * 2\n",
        "lista_b[3] = 35\n",
        "print(lista_a)"
      ],
      "metadata": {
        "colab": {
          "base_uri": "https://localhost:8080/"
        },
        "id": "dHQNCNHlsUNw",
        "outputId": "a6844f4d-9b94-4acb-e336-11f7176872b3"
      },
      "execution_count": 96,
      "outputs": [
        {
          "output_type": "stream",
          "name": "stdout",
          "text": [
            "[4, 1, 8, 6, 3]\n"
          ]
        }
      ]
    },
    {
      "cell_type": "code",
      "source": [
        "# O que é impresso pelo trecho de código a seguir?\n",
        "\n",
        "lista_a = [4, 1, 8, 6, 3]\n",
        "lista_b = [lista_a] * 2\n",
        "lista_a[3] = 35\n",
        "print(lista_b)"
      ],
      "metadata": {
        "colab": {
          "base_uri": "https://localhost:8080/"
        },
        "id": "PAG2s7tXskk_",
        "outputId": "ceaed55d-193d-4bf2-ca64-0e6f52c7f6fd"
      },
      "execution_count": 97,
      "outputs": [
        {
          "output_type": "stream",
          "name": "stdout",
          "text": [
            "[[4, 1, 8, 35, 3], [4, 1, 8, 35, 3]]\n"
          ]
        }
      ]
    },
    {
      "cell_type": "code",
      "source": [
        "# O que é impresso pelo trecho de código a seguir?\n",
        "\n",
        "uma_lista = [4, 1, 8, 6, 3]\n",
        "uma_lista.append(True)\n",
        "uma_lista.append(False)\n",
        "print(uma_lista)"
      ],
      "metadata": {
        "colab": {
          "base_uri": "https://localhost:8080/"
        },
        "id": "XFB73ucwsqDS",
        "outputId": "14142184-1c02-4222-c171-9a349f980cb0"
      },
      "execution_count": 98,
      "outputs": [
        {
          "output_type": "stream",
          "name": "stdout",
          "text": [
            "[4, 1, 8, 6, 3, True, False]\n"
          ]
        }
      ]
    },
    {
      "cell_type": "code",
      "source": [
        "# O que é impresso pelo trecho de código a seguir?\n",
        "\n",
        "uma_lista = [4, 1, 8, 6, 3]\n",
        "uma_lista.insert(2,True)\n",
        "uma_lista.insert(0,False)\n",
        "print(uma_lista)"
      ],
      "metadata": {
        "colab": {
          "base_uri": "https://localhost:8080/"
        },
        "id": "n7kbp2ArsxMk",
        "outputId": "beb2050f-1283-498e-a712-7dd2fe3d86a4"
      },
      "execution_count": 99,
      "outputs": [
        {
          "output_type": "stream",
          "name": "stdout",
          "text": [
            "[False, 4, 1, True, 8, 6, 3]\n"
          ]
        }
      ]
    },
    {
      "cell_type": "code",
      "source": [
        "# O que é impresso pelo trecho de código a seguir?\n",
        "\n",
        "uma_lista = [4, 1, 8, 6, 3]\n",
        "temp = uma_lista.pop(2)\n",
        "temp = uma_lista.pop()\n",
        "print(uma_lista)"
      ],
      "metadata": {
        "colab": {
          "base_uri": "https://localhost:8080/"
        },
        "id": "JSeuAv5fs18o",
        "outputId": "3d5eab84-3928-4e32-898e-471a0b3e169d"
      },
      "execution_count": 100,
      "outputs": [
        {
          "output_type": "stream",
          "name": "stdout",
          "text": [
            "[4, 1, 6]\n"
          ]
        }
      ]
    },
    {
      "cell_type": "code",
      "source": [
        "# O que é impresso pelo trecho de código a seguir?\n",
        "\n",
        "uma_lista = [4, 1, 8, 6, 3]\n",
        "uma_lista = uma_lista.pop(0)\n",
        "print(uma_lista)"
      ],
      "metadata": {
        "colab": {
          "base_uri": "https://localhost:8080/"
        },
        "id": "6p7Pb76vs_kQ",
        "outputId": "08dad606-144b-4937-ebe5-333394855f24"
      },
      "execution_count": 101,
      "outputs": [
        {
          "output_type": "stream",
          "name": "stdout",
          "text": [
            "4\n"
          ]
        }
      ]
    },
    {
      "cell_type": "code",
      "source": [],
      "metadata": {
        "id": "7FcHyAkPxJio"
      },
      "execution_count": 101,
      "outputs": []
    }
  ]
}
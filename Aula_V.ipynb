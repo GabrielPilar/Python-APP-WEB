{
  "nbformat": 4,
  "nbformat_minor": 0,
  "metadata": {
    "colab": {
      "provenance": [],
      "collapsed_sections": []
    },
    "kernelspec": {
      "name": "python3",
      "display_name": "Python 3"
    },
    "language_info": {
      "name": "python"
    }
  },
  "cells": [
    {
      "cell_type": "code",
      "execution_count": 1,
      "metadata": {
        "id": "FVj0C6p84J32"
      },
      "outputs": [],
      "source": [
        "# objeto.metodo(arg1, arg2, etc...)"
      ]
    },
    {
      "cell_type": "code",
      "source": [
        "#Exemplo\n",
        "\n",
        "# .append(), .count(), .insert(), .pop(), .remove(), .sort()"
      ],
      "metadata": {
        "id": "HfRx-Xmi4Ses"
      },
      "execution_count": 2,
      "outputs": []
    },
    {
      "cell_type": "code",
      "source": [
        "# Para conhecer os métodos você pode utilizar a fução help:\n",
        "\n",
        "# help(list.append) \n",
        "\n",
        "# E o Python te retorna o que este método faz no teu objeto."
      ],
      "metadata": {
        "id": "Y20FVeva4qn5"
      },
      "execution_count": 3,
      "outputs": []
    },
    {
      "cell_type": "code",
      "source": [
        "lista=[]\n",
        "help(lista.append)"
      ],
      "metadata": {
        "colab": {
          "base_uri": "https://localhost:8080/"
        },
        "id": "YAt9OGV6477U",
        "outputId": "6c400b3f-93d0-47f7-edea-988540e77cfa"
      },
      "execution_count": 4,
      "outputs": [
        {
          "output_type": "stream",
          "name": "stdout",
          "text": [
            "Help on built-in function append:\n",
            "\n",
            "append(object, /) method of builtins.list instance\n",
            "    Append object to the end of the list.\n",
            "\n"
          ]
        }
      ]
    },
    {
      "cell_type": "code",
      "source": [
        "# Para listar todo os métodos e atributos de um objeto, basta utilizar o dir, ex:"
      ],
      "metadata": {
        "id": "Bs-idkNv5GWQ"
      },
      "execution_count": 5,
      "outputs": []
    },
    {
      "cell_type": "code",
      "source": [
        "dir(list)"
      ],
      "metadata": {
        "colab": {
          "base_uri": "https://localhost:8080/"
        },
        "id": "sLW0zq_H5Qhn",
        "outputId": "3e08fdbd-9af1-4079-fae5-716fe88601c9"
      },
      "execution_count": 6,
      "outputs": [
        {
          "output_type": "execute_result",
          "data": {
            "text/plain": [
              "['__add__',\n",
              " '__class__',\n",
              " '__contains__',\n",
              " '__delattr__',\n",
              " '__delitem__',\n",
              " '__dir__',\n",
              " '__doc__',\n",
              " '__eq__',\n",
              " '__format__',\n",
              " '__ge__',\n",
              " '__getattribute__',\n",
              " '__getitem__',\n",
              " '__gt__',\n",
              " '__hash__',\n",
              " '__iadd__',\n",
              " '__imul__',\n",
              " '__init__',\n",
              " '__init_subclass__',\n",
              " '__iter__',\n",
              " '__le__',\n",
              " '__len__',\n",
              " '__lt__',\n",
              " '__mul__',\n",
              " '__ne__',\n",
              " '__new__',\n",
              " '__reduce__',\n",
              " '__reduce_ex__',\n",
              " '__repr__',\n",
              " '__reversed__',\n",
              " '__rmul__',\n",
              " '__setattr__',\n",
              " '__setitem__',\n",
              " '__sizeof__',\n",
              " '__str__',\n",
              " '__subclasshook__',\n",
              " 'append',\n",
              " 'clear',\n",
              " 'copy',\n",
              " 'count',\n",
              " 'extend',\n",
              " 'index',\n",
              " 'insert',\n",
              " 'pop',\n",
              " 'remove',\n",
              " 'reverse',\n",
              " 'sort']"
            ]
          },
          "metadata": {},
          "execution_count": 6
        }
      ]
    },
    {
      "cell_type": "code",
      "source": [
        "# Funções são blocos de instrução que podem ser invocados de qualquer parte do nosso código, sem precisar reescrever."
      ],
      "metadata": {
        "id": "HO5yx2gc5RJh"
      },
      "execution_count": 7,
      "outputs": []
    },
    {
      "cell_type": "code",
      "source": [
        "# Todo função, por definição, possui um nome, pode receber paramêtros e pode retornar valores. "
      ],
      "metadata": {
        "id": "hy4xm8I05i9X"
      },
      "execution_count": 8,
      "outputs": []
    },
    {
      "cell_type": "code",
      "source": [
        "# Nem todo função receberá parâmetros."
      ],
      "metadata": {
        "id": "swMnkYlv6BQ9"
      },
      "execution_count": 9,
      "outputs": []
    },
    {
      "cell_type": "code",
      "source": [
        "# Nem todo função retornará valores."
      ],
      "metadata": {
        "id": "u3k40UzZ6SXr"
      },
      "execution_count": 10,
      "outputs": []
    },
    {
      "cell_type": "code",
      "source": [
        "# Para que servem?"
      ],
      "metadata": {
        "id": "pKvVn7Rs6V-w"
      },
      "execution_count": 11,
      "outputs": []
    },
    {
      "cell_type": "code",
      "source": [
        "# Um dos grandes benefícios é não precisar copiar o código todas as vezes que precisar execeutar uma determinada operação, além de deixar a leitura do código muito mais intuitiva."
      ],
      "metadata": {
        "id": "5v6AdGyZ6lAS"
      },
      "execution_count": 12,
      "outputs": []
    },
    {
      "cell_type": "code",
      "source": [
        "# Sintaxe:"
      ],
      "metadata": {
        "id": "qgjxbHVR6she"
      },
      "execution_count": 13,
      "outputs": []
    },
    {
      "cell_type": "code",
      "source": [
        "# def nomeDaFuncao(arg1, arg2, etc):\n",
        "#  bloco de comandos\n",
        "#  return (retorno desejado)"
      ],
      "metadata": {
        "id": "CKZood276ugh"
      },
      "execution_count": 14,
      "outputs": []
    },
    {
      "cell_type": "code",
      "source": [
        "# Programação Orientada e Objetos\n",
        "\n",
        "# A orientação a objeto é um modelo de análise, projeto e programação de sistemas de software baseado na composição e iteração entre diversas unidades de software chamada de objetos.\n",
        "\n",
        "# A OO foi criada para tentar aproximas o mundo real do mundo virtual..."
      ],
      "metadata": {
        "id": "0KTBDciL639Y"
      },
      "execution_count": 15,
      "outputs": []
    },
    {
      "cell_type": "code",
      "source": [
        "# As classes tem seus atributos (carcteristicas) e métodos (verbo) <> objetos (Individuo)"
      ],
      "metadata": {
        "id": "TjbyT46D7Vsb"
      },
      "execution_count": 16,
      "outputs": []
    },
    {
      "cell_type": "code",
      "source": [
        "# Cor é da Classe / Vermelho é do Objeto"
      ],
      "metadata": {
        "id": "dq4Pc-2B-QNf"
      },
      "execution_count": 17,
      "outputs": []
    },
    {
      "cell_type": "code",
      "source": [
        "# Classes: Abstrações computacionais que representam entidades do mundo real\n",
        "# Objeto: Instância de uma classe\n",
        "# Atributos: Características ou propriedades do objeto\n",
        "# Métdos: Ações do objeto (funções)\n",
        "# Mensagem: Chamada a um objeto para incovar um de seus metódos"
      ],
      "metadata": {
        "id": "9-B8p6cg_BFl"
      },
      "execution_count": 18,
      "outputs": []
    },
    {
      "cell_type": "code",
      "source": [
        "class NomeDeClasse():\n",
        "  #Contrutor da Classe\n",
        "  def __init__(self):\n",
        "    #Atributos\n",
        "    self.atributo1=valor1\n",
        "    self.atributoM=valorn\n",
        "  \n",
        "  def exemploDeFuncao(self):\n",
        "    return 'Essa é uma função!'\n",
        "  def exemploDeMetodo(self):\n",
        "    print('Esse é um método!')"
      ],
      "metadata": {
        "id": "DX-2TEmS_Zb1"
      },
      "execution_count": 20,
      "outputs": []
    },
    {
      "cell_type": "code",
      "source": [
        "# Método especial que será invocado para construir um objeto de determinado tipo. Regras:\n",
        "\n",
        "# Deve possuir a palavra reservada __int__:\n",
        "# Não pode possuir retorno\n",
        "# Não pode haver mais de um\n",
        "# Permite inicializar um objeto"
      ],
      "metadata": {
        "id": "vDZfMtfjABPe"
      },
      "execution_count": 21,
      "outputs": []
    },
    {
      "cell_type": "code",
      "source": [
        "#Construtor\n",
        "class ContaCorrente():\n",
        "\n",
        "  #Exemplo1\n",
        "  def __init__(self):\n",
        "    self.numConta=159\n",
        "    self.nomeTitular='Camila'\n",
        "    self.saldo=0\n",
        "\n",
        "  #Exemplo2\n",
        "  def __init__(self, numConta, nomeTitular):\n",
        "    self.numConta=numConta\n",
        "    self.nomeTitular=nomeTitular\n",
        "\n",
        "  #Exemplo3\n",
        "  def __init__(self, numConta, nomeTitular, saldo):\n",
        "    self.numConta=numConta\n",
        "    self.nomeTitular=nomeTitular\n",
        "    self.saldo=saldo"
      ],
      "metadata": {
        "id": "KpGdLek3BU7a"
      },
      "execution_count": 22,
      "outputs": []
    },
    {
      "cell_type": "code",
      "source": [
        "#Sintaxe:\n",
        "\n",
        "def metodo(self, arg1, arg2, etc):\n",
        "  print(arg1, arg2)"
      ],
      "metadata": {
        "id": "SvUrR13DCft3"
      },
      "execution_count": 23,
      "outputs": []
    },
    {
      "cell_type": "code",
      "source": [
        "# bob=Cachorro() #Objeto Memória\n",
        "# rex=Cachorro() #Segundo Objeto na memória"
      ],
      "metadata": {
        "id": "M1Yag_UqDaNa"
      },
      "execution_count": 24,
      "outputs": []
    },
    {
      "cell_type": "code",
      "source": [
        "class Lar:\n",
        "\n",
        "  def toctoc(self, pessoa1=None, pessoa2=None):\n",
        "\n",
        "    if pessoa1 is not None and pessoa2 is None:\n",
        "      print('Olá1, '+pessoa1)\n",
        "\n",
        "    elif pessoa1 is not None and pessoa2 is not None:\n",
        "      print('Olá2, '+pessoa1+'e'+pessoa2)\n",
        "\n",
        "    else:\n",
        "      print('Quem está aí?')\n",
        "\n",
        "\n",
        "batendoNaPorta=Lar() #Instância\n",
        "batendoNaPorta.toctoc() # ELSE\n",
        "batendoNaPorta.toctoc('Rick', 'Morty') # ELIF\n",
        "batendoNaPorta.toctoc('Professora Amanda') #IF"
      ],
      "metadata": {
        "colab": {
          "base_uri": "https://localhost:8080/"
        },
        "id": "jCuy3iD6D9Yf",
        "outputId": "647a53fb-b62b-43be-c57e-a094e9bce022"
      },
      "execution_count": 26,
      "outputs": [
        {
          "output_type": "stream",
          "name": "stdout",
          "text": [
            "Quem está aí?\n",
            "Olá2, RickeMorty\n",
            "Olá1, Professora Amanda\n"
          ]
        }
      ]
    },
    {
      "cell_type": "code",
      "source": [
        "#Criando uma classe\n",
        "class Animal():\n",
        "   \n",
        "  #Construtor da classe\n",
        "  def __init__(self, name, weight, color):  #Características, para fazer parte da classe tem que ter essas características.\n",
        "\n",
        "    #atributos\n",
        "    self.nome=name\n",
        "    self.peso=weight\n",
        "    self.corDoPelo=color\n",
        "  \n",
        "  def imprimirDados(self):\n",
        "    return('Nome: %s \\nPeso: %s' %(self.nome, self.peso))\n",
        "\n",
        "  def latir(self, barulho):\n",
        "    print('barulho')"
      ],
      "metadata": {
        "id": "CNKg9RskEZ6r"
      },
      "execution_count": 27,
      "outputs": []
    },
    {
      "cell_type": "code",
      "source": [
        "#Instanciando um obejto cachorro\n",
        "\n",
        "caozinho = Animal('Marlene', 7.9, 'Caramelo')\n",
        "gato = Animal('Cibele', 4.5, 'Cinza')\n",
        "\n",
        "\n",
        "#Chamando o método do objeto criado\n",
        "\n",
        "print(caozinho.imprimirDados())\n",
        "caozinho.latir('Au, Au!')\n",
        "\n",
        "print(gato.imprimirDados())\n",
        "gato.latir('Miau!')\n"
      ],
      "metadata": {
        "colab": {
          "base_uri": "https://localhost:8080/"
        },
        "id": "IpnAooOJIaQc",
        "outputId": "0a7ec645-21d0-4d6d-e951-ae2dbc2b8666"
      },
      "execution_count": 28,
      "outputs": [
        {
          "output_type": "stream",
          "name": "stdout",
          "text": [
            "Nome: Marlene \n",
            "Peso: 7.9\n",
            "barulho\n",
            "Nome: Cibele \n",
            "Peso: 4.5\n",
            "barulho\n"
          ]
        }
      ]
    },
    {
      "cell_type": "code",
      "source": [
        "#Criando uma classe chamada Livro:\n",
        "class Livro():\n",
        "\n",
        "  # Este método vai inicializar cada objeto criado a partir desta classe\n",
        "  # O nome deste método é __init__\n",
        "  # (self) é uma referência a cada atributo de um objeto criado a partir desta classe\n",
        "    def __init__(self):\n",
        "\n",
        "    # Atributos de cada objeto criado a partir desta classe.\n",
        "    # O self indica que eestes são atributos dos objetos\n",
        "      self.titulo='O monge e o Executivo '\n",
        "      self.isbn=9888888\n",
        "      print('Construtor chamado para criar um objeto desta classe')\n",
        "\n",
        "    # Métodos são funções, que recebem como parâmetro atributos do objeto criado\n",
        "    def imprime(self):\n",
        "      print('Foi criado o livro %s e ISBN %d' %(self.titulo, self.isbn))"
      ],
      "metadata": {
        "id": "c_XThPQxMJyz"
      },
      "execution_count": 29,
      "outputs": []
    },
    {
      "cell_type": "code",
      "source": [
        "# Criando uma instância de classe Livro\n",
        "Livro1 = Livro()"
      ],
      "metadata": {
        "colab": {
          "base_uri": "https://localhost:8080/"
        },
        "id": "mC7awZDDQaR0",
        "outputId": "33c37912-3208-4be7-d7ee-40984447600e"
      },
      "execution_count": 30,
      "outputs": [
        {
          "output_type": "stream",
          "name": "stdout",
          "text": [
            "Construtor chamado para criar um objeto desta classe\n"
          ]
        }
      ]
    },
    {
      "cell_type": "code",
      "source": [
        "# Tipo do Objeto Livro1\n",
        "type(Livro1)"
      ],
      "metadata": {
        "colab": {
          "base_uri": "https://localhost:8080/"
        },
        "id": "zezlkUMLSQiI",
        "outputId": "2c7cfaeb-9bc2-4a2f-f423-5a424d5bc111"
      },
      "execution_count": 31,
      "outputs": [
        {
          "output_type": "execute_result",
          "data": {
            "text/plain": [
              "__main__.Livro"
            ]
          },
          "metadata": {},
          "execution_count": 31
        }
      ]
    },
    {
      "cell_type": "code",
      "source": [
        "# Atributo do objeto Livro1\n",
        "Livro1.titulo"
      ],
      "metadata": {
        "colab": {
          "base_uri": "https://localhost:8080/",
          "height": 35
        },
        "id": "m93N8a8HUAhP",
        "outputId": "a4abd460-8d3c-4a91-8cbb-8e7c6518bb3c"
      },
      "execution_count": 32,
      "outputs": [
        {
          "output_type": "execute_result",
          "data": {
            "text/plain": [
              "'O monge e o Executivo '"
            ],
            "application/vnd.google.colaboratory.intrinsic+json": {
              "type": "string"
            }
          },
          "metadata": {},
          "execution_count": 32
        }
      ]
    },
    {
      "cell_type": "code",
      "source": [
        "# Método do objeto Livro1\n",
        "Livro1.imprime()"
      ],
      "metadata": {
        "colab": {
          "base_uri": "https://localhost:8080/"
        },
        "id": "6fZrijlkUKj5",
        "outputId": "2eb3b0b9-7699-4130-fee6-babcf511c0fb"
      },
      "execution_count": 33,
      "outputs": [
        {
          "output_type": "stream",
          "name": "stdout",
          "text": [
            "Foi criado o livro O monge e o Executivo  e ISBN 9888888\n"
          ]
        }
      ]
    },
    {
      "cell_type": "code",
      "source": [
        "# Criando a classe Livro com parâmetros no método construtor\n",
        "\n",
        "class Livro():\n",
        "  def __init__(self, titulo, isbn):\n",
        "    self.titulo=titulo\n",
        "    self.isbn=isbn\n",
        "    print('Construtor chamado para criar um objeto desta classe')\n",
        "  def imprime(self, titulo, isbn):\n",
        "    print('Este é o livro %s e ISBN %d' %(titulo, isbn))"
      ],
      "metadata": {
        "id": "vT3GSNREUQZz"
      },
      "execution_count": 34,
      "outputs": []
    },
    {
      "cell_type": "code",
      "source": [
        "# Criando o objeto Livro2 que é uma instância da classe Livro\n",
        "Livro2=Livro('A Menina que Roubava Livros', 77886611)"
      ],
      "metadata": {
        "colab": {
          "base_uri": "https://localhost:8080/"
        },
        "id": "1gYxX5yEUypL",
        "outputId": "70b2a03b-2bad-4527-e55c-96615f92bfee"
      },
      "execution_count": 35,
      "outputs": [
        {
          "output_type": "stream",
          "name": "stdout",
          "text": [
            "Construtor chamado para criar um objeto desta classe\n"
          ]
        }
      ]
    },
    {
      "cell_type": "code",
      "source": [
        "Livro2.titulo"
      ],
      "metadata": {
        "colab": {
          "base_uri": "https://localhost:8080/",
          "height": 35
        },
        "id": "mV5-5AlZV8XK",
        "outputId": "8b83ece1-bba1-4290-fa95-199351b0c796"
      },
      "execution_count": 36,
      "outputs": [
        {
          "output_type": "execute_result",
          "data": {
            "text/plain": [
              "'A Menina que Roubava Livros'"
            ],
            "application/vnd.google.colaboratory.intrinsic+json": {
              "type": "string"
            }
          },
          "metadata": {},
          "execution_count": 36
        }
      ]
    },
    {
      "cell_type": "markdown",
      "source": [
        "Utilizando herança"
      ],
      "metadata": {
        "id": "b2lSlVWRWdwx"
      }
    },
    {
      "cell_type": "code",
      "source": [
        "# Criando a classe Animal - Super-Classe\n",
        "class Animal():\n",
        "\n",
        "  def __init__(self):\n",
        "    print('Animal criado')\n",
        "\n",
        "  def __init__(self):\n",
        "    print('Animal')\n",
        "\n",
        "  def comer(self):\n",
        "    print('Comendo')"
      ],
      "metadata": {
        "id": "ELFOcE_-X_7e"
      },
      "execution_count": 38,
      "outputs": []
    },
    {
      "cell_type": "code",
      "source": [
        "# Criando a classe cachorro - Sub-Classe\n",
        "class cachorro(Animal):\n",
        "\n",
        "  def __init__(self):\n",
        "    Animal.__init__(self)\n",
        "    print('Objeto cachorro Criado')\n",
        "  \n",
        "  def __init__(self):\n",
        "    print('cachorro')\n",
        "  \n",
        "  def latir(self):\n",
        "    print('Au, Au!')"
      ],
      "metadata": {
        "id": "Lh-Rc5agYRzz"
      },
      "execution_count": 54,
      "outputs": []
    },
    {
      "cell_type": "code",
      "source": [
        "# Criando um objeto (Instanciando a classe)\n",
        "rex = cachorro()"
      ],
      "metadata": {
        "colab": {
          "base_uri": "https://localhost:8080/"
        },
        "id": "4FzHXdEzb_1w",
        "outputId": "ab38b38e-8784-4d48-afb9-a80a94511ee1"
      },
      "execution_count": 57,
      "outputs": [
        {
          "output_type": "stream",
          "name": "stdout",
          "text": [
            "cachorro\n"
          ]
        }
      ]
    },
    {
      "cell_type": "code",
      "source": [
        "rex. identif()"
      ],
      "metadata": {
        "colab": {
          "base_uri": "https://localhost:8080/",
          "height": 165
        },
        "id": "Dx83O2B1cpPT",
        "outputId": "96ce579c-2e4e-40c1-e405-1e9a6423e641"
      },
      "execution_count": 58,
      "outputs": [
        {
          "output_type": "error",
          "ename": "AttributeError",
          "evalue": "ignored",
          "traceback": [
            "\u001b[0;31m---------------------------------------------------------------------------\u001b[0m",
            "\u001b[0;31mAttributeError\u001b[0m                            Traceback (most recent call last)",
            "\u001b[0;32m<ipython-input-58-a3b359e457ba>\u001b[0m in \u001b[0;36m<module>\u001b[0;34m\u001b[0m\n\u001b[0;32m----> 1\u001b[0;31m \u001b[0mrex\u001b[0m\u001b[0;34m.\u001b[0m \u001b[0midentif\u001b[0m\u001b[0;34m(\u001b[0m\u001b[0;34m)\u001b[0m\u001b[0;34m\u001b[0m\u001b[0;34m\u001b[0m\u001b[0m\n\u001b[0m",
            "\u001b[0;31mAttributeError\u001b[0m: 'cachorro' object has no attribute 'identif'"
          ]
        }
      ]
    },
    {
      "cell_type": "code",
      "source": [
        "rex.comer()"
      ],
      "metadata": {
        "id": "Fj-yF4Pzdevn",
        "colab": {
          "base_uri": "https://localhost:8080/"
        },
        "outputId": "f62ef60a-084d-4b69-926b-bb708dac4817"
      },
      "execution_count": 59,
      "outputs": [
        {
          "output_type": "stream",
          "name": "stdout",
          "text": [
            "Comendo\n"
          ]
        }
      ]
    },
    {
      "cell_type": "code",
      "source": [
        "rex.latir()"
      ],
      "metadata": {
        "id": "l4yLIzD9c4nn",
        "colab": {
          "base_uri": "https://localhost:8080/"
        },
        "outputId": "1a8a6202-50f1-41ed-cdf0-b060f5ce12de"
      },
      "execution_count": 60,
      "outputs": [
        {
          "output_type": "stream",
          "name": "stdout",
          "text": [
            "Au, Au!\n"
          ]
        }
      ]
    },
    {
      "cell_type": "markdown",
      "source": [
        "Exercício sala de aula:"
      ],
      "metadata": {
        "id": "JG3u2iMSd70p"
      }
    },
    {
      "cell_type": "code",
      "source": [
        "# Criar classe PESSOA com atributos: nome e idade\n",
        "\n",
        "# Implementar função capaz de retornar o ano que a pessoa nasceu utilizando apenas o valor referente a idade\n",
        "\n",
        "# Lista que armazene 5 pessoas e percorra a lista e motre na tela todos os dados\n",
        "\n",
        "class Pessoa():\n",
        "  def __init__(self, nome, idade):\n",
        "    self.nome=nome  #self.nome=input\n",
        "    self.idade= idade #self.idade=input\n",
        "  \n",
        "  def nascimento(self, idade): #variável da função\n",
        "    return(2022-idade) # Retorna o ano que a pessoa nasceu"
      ],
      "metadata": {
        "id": "jEkHQV0ndUMa"
      },
      "execution_count": 62,
      "outputs": []
    },
    {
      "cell_type": "code",
      "source": [],
      "metadata": {
        "id": "AF_MrsXOeSh-"
      },
      "execution_count": null,
      "outputs": []
    }
  ]
}